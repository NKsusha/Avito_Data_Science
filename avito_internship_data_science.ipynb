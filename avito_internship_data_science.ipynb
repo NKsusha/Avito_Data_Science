{
 "cells": [
  {
   "cell_type": "markdown",
   "metadata": {},
   "source": [
    "## Goal: Обучите классификатор, предсказывающий категорию объявления на Авито по его заголовку, описанию и цене. Метрика для оценки качества -- accuracy. Необходимо предоставить прокомментированный код (желательно на Python 2.x или 3.x, можно в Jupiter Notebook) для всех этапов решения задачи и результат скоринга файла test.csv с помощью предложенного классификатора (csv-файл с двумя столбцами: item_id, category_id).\n",
    "\n",
    "##### Категории имеют иерархическую структуру, описанную в файле сategory.csv. Посчитайте также accuracy вашей модели на каждом уровне иерархии."
   ]
  },
  {
   "cell_type": "markdown",
   "metadata": {},
   "source": [
    "# Imports"
   ]
  },
  {
   "cell_type": "code",
   "execution_count": 1,
   "metadata": {},
   "outputs": [],
   "source": [
    "import numpy as np\n",
    "import pandas as pd\n",
    "import matplotlib.pyplot as plt\n",
    "import seaborn as sns\n",
    "%matplotlib inline\n",
    "import string\n",
    "import re\n",
    "from multiprocessing import Pool\n",
    "from sklearn.model_selection import cross_val_score, train_test_split\n",
    "from sklearn import metrics\n",
    "from sklearn.feature_extraction.text import CountVectorizer\n",
    "from sklearn.ensemble import RandomForestClassifier, GradientBoostingClassifier\n",
    "from sklearn.feature_extraction.text import TfidfVectorizer\n",
    "from sklearn.svm import LinearSVC, SVC\n",
    "from sklearn.linear_model import LogisticRegression\n",
    "from sklearn.multiclass import OneVsOneClassifier, OneVsRestClassifier\n",
    "from nltk.corpus import stopwords as nltk_stopwords\n",
    "from pymystem3 import Mystem\n",
    "from nltk.probability import FreqDist\n",
    "from nltk import word_tokenize\n",
    "import pymorphy2\n",
    "from pprint import pprint\n",
    "from sklearn.feature_extraction.text import CountVectorizer\n",
    "from sklearn.pipeline import Pipeline\n",
    "#from tqdm import tqdm_notebook as tqdm\n",
    "#tqdm().pandas()"
   ]
  },
  {
   "cell_type": "markdown",
   "metadata": {},
   "source": [
    "# Data load"
   ]
  },
  {
   "cell_type": "code",
   "execution_count": 2,
   "metadata": {
    "scrolled": true
   },
   "outputs": [
    {
     "data": {
      "text/html": [
       "<div>\n",
       "<style scoped>\n",
       "    .dataframe tbody tr th:only-of-type {\n",
       "        vertical-align: middle;\n",
       "    }\n",
       "\n",
       "    .dataframe tbody tr th {\n",
       "        vertical-align: top;\n",
       "    }\n",
       "\n",
       "    .dataframe thead th {\n",
       "        text-align: right;\n",
       "    }\n",
       "</style>\n",
       "<table border=\"1\" class=\"dataframe\">\n",
       "  <thead>\n",
       "    <tr style=\"text-align: right;\">\n",
       "      <th></th>\n",
       "      <th>item_id</th>\n",
       "      <th>title</th>\n",
       "      <th>description</th>\n",
       "      <th>price</th>\n",
       "      <th>category_id</th>\n",
       "    </tr>\n",
       "  </thead>\n",
       "  <tbody>\n",
       "    <tr>\n",
       "      <th>184625</th>\n",
       "      <td>184625</td>\n",
       "      <td>Чехол для iPhone 5/5s (чехол для айфона)</td>\n",
       "      <td>В наличии чехлы для iPhone 5/5s с Катей Самбук...</td>\n",
       "      <td>100.0</td>\n",
       "      <td>9</td>\n",
       "    </tr>\n",
       "    <tr>\n",
       "      <th>69133</th>\n",
       "      <td>69133</td>\n",
       "      <td>Люстра подвесная Luce Solara 5053/5P</td>\n",
       "      <td>Продам подвесную люстру. Длина подвеса регулир...</td>\n",
       "      <td>2450.0</td>\n",
       "      <td>28</td>\n",
       "    </tr>\n",
       "    <tr>\n",
       "      <th>222288</th>\n",
       "      <td>222288</td>\n",
       "      <td>Чехол lifeproof FRE для iPhone 6S plus</td>\n",
       "      <td>— Lifeproof-store - самый большой выбор оригин...</td>\n",
       "      <td>6399.0</td>\n",
       "      <td>9</td>\n",
       "    </tr>\n",
       "    <tr>\n",
       "      <th>417926</th>\n",
       "      <td>417926</td>\n",
       "      <td>Сапоги DolceGabbana Оригинал</td>\n",
       "      <td>Сапоги выгуливались пару раз. Состояние идеаль...</td>\n",
       "      <td>10000.0</td>\n",
       "      <td>39</td>\n",
       "    </tr>\n",
       "    <tr>\n",
       "      <th>187657</th>\n",
       "      <td>187657</td>\n",
       "      <td>Радиола Муромец</td>\n",
       "      <td>Продается радиола Муромец в рабочем состоянии</td>\n",
       "      <td>4500.0</td>\n",
       "      <td>44</td>\n",
       "    </tr>\n",
       "    <tr>\n",
       "      <th>151307</th>\n",
       "      <td>151307</td>\n",
       "      <td>Ботинки горнолыжные Salomon</td>\n",
       "      <td>Продам отличные горнолыжные ботинки Salomon. К...</td>\n",
       "      <td>5900.0</td>\n",
       "      <td>42</td>\n",
       "    </tr>\n",
       "    <tr>\n",
       "      <th>440423</th>\n",
       "      <td>440423</td>\n",
       "      <td>Телевизор 24\" (61см) LCD TCL новый гарантия</td>\n",
       "      <td>Телевизор 24 LCD TCL L24E4104FR новый гарантия...</td>\n",
       "      <td>10000.0</td>\n",
       "      <td>5</td>\n",
       "    </tr>\n",
       "    <tr>\n",
       "      <th>47694</th>\n",
       "      <td>47694</td>\n",
       "      <td>Бесплатная доставка по России</td>\n",
       "      <td>Качественное и красивое постельное белье из по...</td>\n",
       "      <td>1890.0</td>\n",
       "      <td>27</td>\n",
       "    </tr>\n",
       "    <tr>\n",
       "      <th>433258</th>\n",
       "      <td>433258</td>\n",
       "      <td>Фиалка ле-Карусель</td>\n",
       "      <td>Продаются детки сортовой фиалки ЛЕ-Карусель. Н...</td>\n",
       "      <td>100.0</td>\n",
       "      <td>24</td>\n",
       "    </tr>\n",
       "    <tr>\n",
       "      <th>287334</th>\n",
       "      <td>287334</td>\n",
       "      <td>Двухъядерный комьютер Athlon 64 X2 3600+ / 2Gb...</td>\n",
       "      <td>Двухъядерный процессор AMD Athlon 64 X2 3600+ ...</td>\n",
       "      <td>4900.0</td>\n",
       "      <td>7</td>\n",
       "    </tr>\n",
       "  </tbody>\n",
       "</table>\n",
       "</div>"
      ],
      "text/plain": [
       "        item_id                                              title  \\\n",
       "184625   184625           Чехол для iPhone 5/5s (чехол для айфона)   \n",
       "69133     69133               Люстра подвесная Luce Solara 5053/5P   \n",
       "222288   222288             Чехол lifeproof FRE для iPhone 6S plus   \n",
       "417926   417926                       Сапоги DolceGabbana Оригинал   \n",
       "187657   187657                                    Радиола Муромец   \n",
       "151307   151307                        Ботинки горнолыжные Salomon   \n",
       "440423   440423        Телевизор 24\" (61см) LCD TCL новый гарантия   \n",
       "47694     47694                      Бесплатная доставка по России   \n",
       "433258   433258                                 Фиалка ле-Карусель   \n",
       "287334   287334  Двухъядерный комьютер Athlon 64 X2 3600+ / 2Gb...   \n",
       "\n",
       "                                              description    price  \\\n",
       "184625  В наличии чехлы для iPhone 5/5s с Катей Самбук...    100.0   \n",
       "69133   Продам подвесную люстру. Длина подвеса регулир...   2450.0   \n",
       "222288  — Lifeproof-store - самый большой выбор оригин...   6399.0   \n",
       "417926  Сапоги выгуливались пару раз. Состояние идеаль...  10000.0   \n",
       "187657      Продается радиола Муромец в рабочем состоянии   4500.0   \n",
       "151307  Продам отличные горнолыжные ботинки Salomon. К...   5900.0   \n",
       "440423  Телевизор 24 LCD TCL L24E4104FR новый гарантия...  10000.0   \n",
       "47694   Качественное и красивое постельное белье из по...   1890.0   \n",
       "433258  Продаются детки сортовой фиалки ЛЕ-Карусель. Н...    100.0   \n",
       "287334  Двухъядерный процессор AMD Athlon 64 X2 3600+ ...   4900.0   \n",
       "\n",
       "        category_id  \n",
       "184625            9  \n",
       "69133            28  \n",
       "222288            9  \n",
       "417926           39  \n",
       "187657           44  \n",
       "151307           42  \n",
       "440423            5  \n",
       "47694            27  \n",
       "433258           24  \n",
       "287334            7  "
      ]
     },
     "execution_count": 2,
     "metadata": {},
     "output_type": "execute_result"
    }
   ],
   "source": [
    "train = pd.read_csv('train.csv')\n",
    "train.sample(10)"
   ]
  },
  {
   "cell_type": "code",
   "execution_count": 3,
   "metadata": {},
   "outputs": [
    {
     "data": {
      "text/plain": [
       "(489517, 5)"
      ]
     },
     "execution_count": 3,
     "metadata": {},
     "output_type": "execute_result"
    }
   ],
   "source": [
    "train.shape"
   ]
  },
  {
   "cell_type": "code",
   "execution_count": 4,
   "metadata": {},
   "outputs": [
    {
     "data": {
      "text/html": [
       "<div>\n",
       "<style scoped>\n",
       "    .dataframe tbody tr th:only-of-type {\n",
       "        vertical-align: middle;\n",
       "    }\n",
       "\n",
       "    .dataframe tbody tr th {\n",
       "        vertical-align: top;\n",
       "    }\n",
       "\n",
       "    .dataframe thead th {\n",
       "        text-align: right;\n",
       "    }\n",
       "</style>\n",
       "<table border=\"1\" class=\"dataframe\">\n",
       "  <thead>\n",
       "    <tr style=\"text-align: right;\">\n",
       "      <th></th>\n",
       "      <th>item_id</th>\n",
       "      <th>price</th>\n",
       "      <th>category_id</th>\n",
       "    </tr>\n",
       "  </thead>\n",
       "  <tbody>\n",
       "    <tr>\n",
       "      <th>count</th>\n",
       "      <td>489517.000000</td>\n",
       "      <td>4.895170e+05</td>\n",
       "      <td>489517.000000</td>\n",
       "    </tr>\n",
       "    <tr>\n",
       "      <th>mean</th>\n",
       "      <td>244758.000000</td>\n",
       "      <td>8.795970e+03</td>\n",
       "      <td>26.765361</td>\n",
       "    </tr>\n",
       "    <tr>\n",
       "      <th>std</th>\n",
       "      <td>141311.530199</td>\n",
       "      <td>7.158194e+04</td>\n",
       "      <td>15.531774</td>\n",
       "    </tr>\n",
       "    <tr>\n",
       "      <th>min</th>\n",
       "      <td>0.000000</td>\n",
       "      <td>1.300000e+01</td>\n",
       "      <td>0.000000</td>\n",
       "    </tr>\n",
       "    <tr>\n",
       "      <th>25%</th>\n",
       "      <td>122379.000000</td>\n",
       "      <td>7.500000e+02</td>\n",
       "      <td>13.000000</td>\n",
       "    </tr>\n",
       "    <tr>\n",
       "      <th>50%</th>\n",
       "      <td>244758.000000</td>\n",
       "      <td>2.400000e+03</td>\n",
       "      <td>27.000000</td>\n",
       "    </tr>\n",
       "    <tr>\n",
       "      <th>75%</th>\n",
       "      <td>367137.000000</td>\n",
       "      <td>7.000000e+03</td>\n",
       "      <td>40.000000</td>\n",
       "    </tr>\n",
       "    <tr>\n",
       "      <th>max</th>\n",
       "      <td>489516.000000</td>\n",
       "      <td>1.000000e+07</td>\n",
       "      <td>53.000000</td>\n",
       "    </tr>\n",
       "  </tbody>\n",
       "</table>\n",
       "</div>"
      ],
      "text/plain": [
       "             item_id         price    category_id\n",
       "count  489517.000000  4.895170e+05  489517.000000\n",
       "mean   244758.000000  8.795970e+03      26.765361\n",
       "std    141311.530199  7.158194e+04      15.531774\n",
       "min         0.000000  1.300000e+01       0.000000\n",
       "25%    122379.000000  7.500000e+02      13.000000\n",
       "50%    244758.000000  2.400000e+03      27.000000\n",
       "75%    367137.000000  7.000000e+03      40.000000\n",
       "max    489516.000000  1.000000e+07      53.000000"
      ]
     },
     "execution_count": 4,
     "metadata": {},
     "output_type": "execute_result"
    }
   ],
   "source": [
    "train.describe()"
   ]
  },
  {
   "cell_type": "code",
   "execution_count": 5,
   "metadata": {},
   "outputs": [
    {
     "name": "stdout",
     "output_type": "stream",
     "text": [
      "<class 'pandas.core.frame.DataFrame'>\n",
      "RangeIndex: 489517 entries, 0 to 489516\n",
      "Data columns (total 5 columns):\n",
      "item_id        489517 non-null int64\n",
      "title          489517 non-null object\n",
      "description    489517 non-null object\n",
      "price          489517 non-null float64\n",
      "category_id    489517 non-null int64\n",
      "dtypes: float64(1), int64(2), object(2)\n",
      "memory usage: 18.7+ MB\n"
     ]
    }
   ],
   "source": [
    "train.info()"
   ]
  },
  {
   "cell_type": "code",
   "execution_count": 6,
   "metadata": {},
   "outputs": [
    {
     "data": {
      "text/html": [
       "<div>\n",
       "<style scoped>\n",
       "    .dataframe tbody tr th:only-of-type {\n",
       "        vertical-align: middle;\n",
       "    }\n",
       "\n",
       "    .dataframe tbody tr th {\n",
       "        vertical-align: top;\n",
       "    }\n",
       "\n",
       "    .dataframe thead th {\n",
       "        text-align: right;\n",
       "    }\n",
       "</style>\n",
       "<table border=\"1\" class=\"dataframe\">\n",
       "  <thead>\n",
       "    <tr style=\"text-align: right;\">\n",
       "      <th></th>\n",
       "      <th>item_id</th>\n",
       "      <th>title</th>\n",
       "      <th>description</th>\n",
       "      <th>price</th>\n",
       "    </tr>\n",
       "  </thead>\n",
       "  <tbody>\n",
       "    <tr>\n",
       "      <th>180596</th>\n",
       "      <td>670113</td>\n",
       "      <td>Продам коляску</td>\n",
       "      <td>Продам недорого немецкую коляску зима-лето, в ...</td>\n",
       "      <td>3500.0</td>\n",
       "    </tr>\n",
       "    <tr>\n",
       "      <th>101033</th>\n",
       "      <td>590550</td>\n",
       "      <td>Накладка на Sony Xperia Z1 compact</td>\n",
       "      <td>Отличное состояние, как новый. Фирма cherry Те...</td>\n",
       "      <td>150.0</td>\n",
       "    </tr>\n",
       "    <tr>\n",
       "      <th>8483</th>\n",
       "      <td>498000</td>\n",
       "      <td>Стульчик для кормления Chicco Polly</td>\n",
       "      <td>Стульчик в отличном состоянии,ремни в комплект...</td>\n",
       "      <td>4500.0</td>\n",
       "    </tr>\n",
       "    <tr>\n",
       "      <th>173326</th>\n",
       "      <td>662843</td>\n",
       "      <td>Фиолетовая толстовка из флиса L/XL на молнии н...</td>\n",
       "      <td>фиолетовая толстовка из флиса L/XL на молнии с...</td>\n",
       "      <td>500.0</td>\n",
       "    </tr>\n",
       "    <tr>\n",
       "      <th>167332</th>\n",
       "      <td>656849</td>\n",
       "      <td>HP EliteBook 2540p</td>\n",
       "      <td>Продаю за ненадобностью. Отличный бизнес-ноутб...</td>\n",
       "      <td>13000.0</td>\n",
       "    </tr>\n",
       "    <tr>\n",
       "      <th>101092</th>\n",
       "      <td>590609</td>\n",
       "      <td>Отрез голубой ткани</td>\n",
       "      <td>Качественный хлопок, СССР, подойдет для шитья ...</td>\n",
       "      <td>200.0</td>\n",
       "    </tr>\n",
       "    <tr>\n",
       "      <th>145268</th>\n",
       "      <td>634785</td>\n",
       "      <td>Корейский</td>\n",
       "      <td>Русско-корейский разговорник. Состояние хорошее</td>\n",
       "      <td>70.0</td>\n",
       "    </tr>\n",
       "    <tr>\n",
       "      <th>55031</th>\n",
       "      <td>544548</td>\n",
       "      <td>Samsung-Galaxy S4</td>\n",
       "      <td>Продам Оригинал ОЗУ 2 Гб  RAM 16 камера 13  Si...</td>\n",
       "      <td>8500.0</td>\n",
       "    </tr>\n",
       "    <tr>\n",
       "      <th>68573</th>\n",
       "      <td>558090</td>\n",
       "      <td>Бронируем Абхазию из Ижевска</td>\n",
       "      <td>АБХАЗИЯ(СУХУМ) вылет 5 июня из ИЖЕВСКА, 8 дней...</td>\n",
       "      <td>23000.0</td>\n",
       "    </tr>\n",
       "    <tr>\n",
       "      <th>87195</th>\n",
       "      <td>576712</td>\n",
       "      <td>Айфон 5</td>\n",
       "      <td>Айфон 5, белый ,16 Гб.  пару трещин на экране ...</td>\n",
       "      <td>7000.0</td>\n",
       "    </tr>\n",
       "  </tbody>\n",
       "</table>\n",
       "</div>"
      ],
      "text/plain": [
       "        item_id                                              title  \\\n",
       "180596   670113                                     Продам коляску   \n",
       "101033   590550                 Накладка на Sony Xperia Z1 compact   \n",
       "8483     498000                Стульчик для кормления Chicco Polly   \n",
       "173326   662843  Фиолетовая толстовка из флиса L/XL на молнии н...   \n",
       "167332   656849                                 HP EliteBook 2540p   \n",
       "101092   590609                                Отрез голубой ткани   \n",
       "145268   634785                                          Корейский   \n",
       "55031    544548                                  Samsung-Galaxy S4   \n",
       "68573    558090                       Бронируем Абхазию из Ижевска   \n",
       "87195    576712                                            Айфон 5   \n",
       "\n",
       "                                              description    price  \n",
       "180596  Продам недорого немецкую коляску зима-лето, в ...   3500.0  \n",
       "101033  Отличное состояние, как новый. Фирма cherry Те...    150.0  \n",
       "8483    Стульчик в отличном состоянии,ремни в комплект...   4500.0  \n",
       "173326  фиолетовая толстовка из флиса L/XL на молнии с...    500.0  \n",
       "167332  Продаю за ненадобностью. Отличный бизнес-ноутб...  13000.0  \n",
       "101092  Качественный хлопок, СССР, подойдет для шитья ...    200.0  \n",
       "145268    Русско-корейский разговорник. Состояние хорошее     70.0  \n",
       "55031   Продам Оригинал ОЗУ 2 Гб  RAM 16 камера 13  Si...   8500.0  \n",
       "68573   АБХАЗИЯ(СУХУМ) вылет 5 июня из ИЖЕВСКА, 8 дней...  23000.0  \n",
       "87195   Айфон 5, белый ,16 Гб.  пару трещин на экране ...   7000.0  "
      ]
     },
     "execution_count": 6,
     "metadata": {},
     "output_type": "execute_result"
    }
   ],
   "source": [
    "test = pd.read_csv('test.csv')\n",
    "test.sample(10)"
   ]
  },
  {
   "cell_type": "code",
   "execution_count": 7,
   "metadata": {},
   "outputs": [
    {
     "data": {
      "text/plain": [
       "(243166, 4)"
      ]
     },
     "execution_count": 7,
     "metadata": {},
     "output_type": "execute_result"
    }
   ],
   "source": [
    "test.shape"
   ]
  },
  {
   "cell_type": "code",
   "execution_count": 8,
   "metadata": {
    "scrolled": true
   },
   "outputs": [
    {
     "data": {
      "text/html": [
       "<div>\n",
       "<style scoped>\n",
       "    .dataframe tbody tr th:only-of-type {\n",
       "        vertical-align: middle;\n",
       "    }\n",
       "\n",
       "    .dataframe tbody tr th {\n",
       "        vertical-align: top;\n",
       "    }\n",
       "\n",
       "    .dataframe thead th {\n",
       "        text-align: right;\n",
       "    }\n",
       "</style>\n",
       "<table border=\"1\" class=\"dataframe\">\n",
       "  <thead>\n",
       "    <tr style=\"text-align: right;\">\n",
       "      <th></th>\n",
       "      <th>category_id</th>\n",
       "      <th>name</th>\n",
       "    </tr>\n",
       "  </thead>\n",
       "  <tbody>\n",
       "    <tr>\n",
       "      <th>36</th>\n",
       "      <td>36</td>\n",
       "      <td>Личные вещи|Часы и украшения|Часы</td>\n",
       "    </tr>\n",
       "    <tr>\n",
       "      <th>21</th>\n",
       "      <td>21</td>\n",
       "      <td>Для дома и дачи|Ремонт и строительство|Сантехн...</td>\n",
       "    </tr>\n",
       "    <tr>\n",
       "      <th>35</th>\n",
       "      <td>35</td>\n",
       "      <td>Личные вещи|Одежда, обувь, аксессуары|Женская ...</td>\n",
       "    </tr>\n",
       "    <tr>\n",
       "      <th>4</th>\n",
       "      <td>4</td>\n",
       "      <td>Бытовая электроника|Игры, приставки и программ...</td>\n",
       "    </tr>\n",
       "    <tr>\n",
       "      <th>8</th>\n",
       "      <td>8</td>\n",
       "      <td>Бытовая электроника|Игры, приставки и программ...</td>\n",
       "    </tr>\n",
       "    <tr>\n",
       "      <th>43</th>\n",
       "      <td>43</td>\n",
       "      <td>Хобби и отдых|Книги и журналы|Книги</td>\n",
       "    </tr>\n",
       "    <tr>\n",
       "      <th>24</th>\n",
       "      <td>24</td>\n",
       "      <td>Для дома и дачи|Растения</td>\n",
       "    </tr>\n",
       "    <tr>\n",
       "      <th>51</th>\n",
       "      <td>51</td>\n",
       "      <td>Хобби и отдых|Книги и журналы|Учебная литература</td>\n",
       "    </tr>\n",
       "    <tr>\n",
       "      <th>41</th>\n",
       "      <td>41</td>\n",
       "      <td>Личные вещи|Товары для детей и игрушки|Товары ...</td>\n",
       "    </tr>\n",
       "    <tr>\n",
       "      <th>30</th>\n",
       "      <td>30</td>\n",
       "      <td>Личные вещи|Товары для детей и игрушки|Игрушки</td>\n",
       "    </tr>\n",
       "  </tbody>\n",
       "</table>\n",
       "</div>"
      ],
      "text/plain": [
       "    category_id                                               name\n",
       "36           36                  Личные вещи|Часы и украшения|Часы\n",
       "21           21  Для дома и дачи|Ремонт и строительство|Сантехн...\n",
       "35           35  Личные вещи|Одежда, обувь, аксессуары|Женская ...\n",
       "4             4  Бытовая электроника|Игры, приставки и программ...\n",
       "8             8  Бытовая электроника|Игры, приставки и программ...\n",
       "43           43                Хобби и отдых|Книги и журналы|Книги\n",
       "24           24                           Для дома и дачи|Растения\n",
       "51           51   Хобби и отдых|Книги и журналы|Учебная литература\n",
       "41           41  Личные вещи|Товары для детей и игрушки|Товары ...\n",
       "30           30     Личные вещи|Товары для детей и игрушки|Игрушки"
      ]
     },
     "execution_count": 8,
     "metadata": {},
     "output_type": "execute_result"
    }
   ],
   "source": [
    "category = pd.read_csv('category.csv')\n",
    "category.sample(10)"
   ]
  },
  {
   "cell_type": "code",
   "execution_count": 9,
   "metadata": {},
   "outputs": [
    {
     "data": {
      "text/plain": [
       "(54, 2)"
      ]
     },
     "execution_count": 9,
     "metadata": {},
     "output_type": "execute_result"
    }
   ],
   "source": [
    "category.shape"
   ]
  },
  {
   "cell_type": "markdown",
   "metadata": {},
   "source": [
    "# Data overview"
   ]
  },
  {
   "cell_type": "code",
   "execution_count": 10,
   "metadata": {},
   "outputs": [
    {
     "data": {
      "text/plain": [
       "489517"
      ]
     },
     "execution_count": 10,
     "metadata": {},
     "output_type": "execute_result"
    }
   ],
   "source": [
    "len(train.item_id.unique())"
   ]
  },
  {
   "cell_type": "code",
   "execution_count": 11,
   "metadata": {},
   "outputs": [
    {
     "data": {
      "text/plain": [
       "array([19, 22, 37, 43,  1, 50, 41, 36, 48, 39, 30, 34, 46, 28, 24, 17, 32,\n",
       "       38, 51, 18, 14,  5,  4,  2, 33, 20, 13, 49,  8, 11, 53, 21, 25, 42,\n",
       "       40, 31, 12, 44, 23,  6,  7,  0, 15, 27, 29, 52,  3,  9, 16, 35, 47,\n",
       "       45, 26, 10], dtype=int64)"
      ]
     },
     "execution_count": 11,
     "metadata": {},
     "output_type": "execute_result"
    }
   ],
   "source": [
    "train.category_id.unique()"
   ]
  },
  {
   "cell_type": "code",
   "execution_count": 12,
   "metadata": {},
   "outputs": [
    {
     "data": {
      "text/plain": [
       "<matplotlib.axes._subplots.AxesSubplot at 0x26a1a2a9400>"
      ]
     },
     "execution_count": 12,
     "metadata": {},
     "output_type": "execute_result"
    },
    {
     "data": {
      "image/png": "[encoded data removed]",
      "text/plain": [
       "<Figure size 1080x576 with 1 Axes>"
      ]
     },
     "metadata": {},
     "output_type": "display_data"
    }
   ],
   "source": [
    "fig = plt.gcf() \n",
    "fig.set_size_inches(15,8)\n",
    "train.category_id.value_counts().plot('bar')"
   ]
  },
  {
   "cell_type": "markdown",
   "metadata": {},
   "source": [
    "### Pretty balanced classes"
   ]
  },
  {
   "cell_type": "code",
   "execution_count": 13,
   "metadata": {},
   "outputs": [
    {
     "data": {
      "text/plain": [
       "array([3, 2, 3, 3, 3, 3, 3, 2, 3, 4, 3, 3, 3, 3, 3, 3, 3, 3, 3, 3, 3, 3,\n",
       "       3, 3, 2, 3, 4, 3, 3, 4, 3, 3, 3, 4, 3, 4, 3, 3, 4, 4, 3, 3, 3, 3,\n",
       "       3, 3, 3, 3, 3, 2, 3, 3, 3, 3], dtype=int64)"
      ]
     },
     "execution_count": 13,
     "metadata": {},
     "output_type": "execute_result"
    }
   ],
   "source": [
    "category.name.apply(lambda x: len(x.split('|'))).values"
   ]
  },
  {
   "cell_type": "markdown",
   "metadata": {},
   "source": [
    "### Not all of categories have 3 levels\n",
    "### Split them for the future"
   ]
  },
  {
   "cell_type": "code",
   "execution_count": 14,
   "metadata": {},
   "outputs": [],
   "source": [
    "category['1st_level'] = category.name.apply(lambda x: x.split('|')[0])\n",
    "category['2nd_level'] = category.name.apply(lambda x: x.split('|')[1])\n",
    "category['3rd_level'] = category.name.apply(lambda x: x.split('|')[2] if len(x.split('|'))>2 else 0)\n",
    "category['4th_level'] = category.name.apply(lambda x: x.split('|')[3] if len(x.split('|'))>3 else 0)"
   ]
  },
  {
   "cell_type": "code",
   "execution_count": 15,
   "metadata": {
    "scrolled": false
   },
   "outputs": [
    {
     "data": {
      "text/html": [
       "<div>\n",
       "<style scoped>\n",
       "    .dataframe tbody tr th:only-of-type {\n",
       "        vertical-align: middle;\n",
       "    }\n",
       "\n",
       "    .dataframe tbody tr th {\n",
       "        vertical-align: top;\n",
       "    }\n",
       "\n",
       "    .dataframe thead th {\n",
       "        text-align: right;\n",
       "    }\n",
       "</style>\n",
       "<table border=\"1\" class=\"dataframe\">\n",
       "  <thead>\n",
       "    <tr style=\"text-align: right;\">\n",
       "      <th></th>\n",
       "      <th>category_id</th>\n",
       "      <th>name</th>\n",
       "      <th>1st_level</th>\n",
       "      <th>2nd_level</th>\n",
       "      <th>3rd_level</th>\n",
       "      <th>4th_level</th>\n",
       "    </tr>\n",
       "  </thead>\n",
       "  <tbody>\n",
       "    <tr>\n",
       "      <th>22</th>\n",
       "      <td>22</td>\n",
       "      <td>Для дома и дачи|Мебель и интерьер|Столы и стулья</td>\n",
       "      <td>Для дома и дачи</td>\n",
       "      <td>Мебель и интерьер</td>\n",
       "      <td>Столы и стулья</td>\n",
       "      <td>0</td>\n",
       "    </tr>\n",
       "    <tr>\n",
       "      <th>21</th>\n",
       "      <td>21</td>\n",
       "      <td>Для дома и дачи|Ремонт и строительство|Сантехн...</td>\n",
       "      <td>Для дома и дачи</td>\n",
       "      <td>Ремонт и строительство</td>\n",
       "      <td>Сантехника и сауна</td>\n",
       "      <td>0</td>\n",
       "    </tr>\n",
       "    <tr>\n",
       "      <th>49</th>\n",
       "      <td>49</td>\n",
       "      <td>Хобби и отдых|Охота и рыбалка</td>\n",
       "      <td>Хобби и отдых</td>\n",
       "      <td>Охота и рыбалка</td>\n",
       "      <td>0</td>\n",
       "      <td>0</td>\n",
       "    </tr>\n",
       "    <tr>\n",
       "      <th>29</th>\n",
       "      <td>29</td>\n",
       "      <td>Для дома и дачи|Бытовая техника|Для кухни|Мелк...</td>\n",
       "      <td>Для дома и дачи</td>\n",
       "      <td>Бытовая техника</td>\n",
       "      <td>Для кухни</td>\n",
       "      <td>Мелкая кухонная техника</td>\n",
       "    </tr>\n",
       "    <tr>\n",
       "      <th>39</th>\n",
       "      <td>39</td>\n",
       "      <td>Личные вещи|Одежда, обувь, аксессуары|Женская ...</td>\n",
       "      <td>Личные вещи</td>\n",
       "      <td>Одежда, обувь, аксессуары</td>\n",
       "      <td>Женская одежда</td>\n",
       "      <td>Обувь</td>\n",
       "    </tr>\n",
       "    <tr>\n",
       "      <th>37</th>\n",
       "      <td>37</td>\n",
       "      <td>Личные вещи|Красота и здоровье|Приборы и аксес...</td>\n",
       "      <td>Личные вещи</td>\n",
       "      <td>Красота и здоровье</td>\n",
       "      <td>Приборы и аксессуары</td>\n",
       "      <td>0</td>\n",
       "    </tr>\n",
       "    <tr>\n",
       "      <th>25</th>\n",
       "      <td>25</td>\n",
       "      <td>Для дома и дачи|Ремонт и строительство|Двери</td>\n",
       "      <td>Для дома и дачи</td>\n",
       "      <td>Ремонт и строительство</td>\n",
       "      <td>Двери</td>\n",
       "      <td>0</td>\n",
       "    </tr>\n",
       "    <tr>\n",
       "      <th>8</th>\n",
       "      <td>8</td>\n",
       "      <td>Бытовая электроника|Игры, приставки и программ...</td>\n",
       "      <td>Бытовая электроника</td>\n",
       "      <td>Игры, приставки и программы</td>\n",
       "      <td>Игры для приставок</td>\n",
       "      <td>0</td>\n",
       "    </tr>\n",
       "    <tr>\n",
       "      <th>52</th>\n",
       "      <td>52</td>\n",
       "      <td>Хобби и отдых|Музыкальные инструменты|Для студ...</td>\n",
       "      <td>Хобби и отдых</td>\n",
       "      <td>Музыкальные инструменты</td>\n",
       "      <td>Для студии и концертов</td>\n",
       "      <td>0</td>\n",
       "    </tr>\n",
       "    <tr>\n",
       "      <th>27</th>\n",
       "      <td>27</td>\n",
       "      <td>Для дома и дачи|Мебель и интерьер|Текстиль и к...</td>\n",
       "      <td>Для дома и дачи</td>\n",
       "      <td>Мебель и интерьер</td>\n",
       "      <td>Текстиль и ковры</td>\n",
       "      <td>0</td>\n",
       "    </tr>\n",
       "  </tbody>\n",
       "</table>\n",
       "</div>"
      ],
      "text/plain": [
       "    category_id                                               name  \\\n",
       "22           22   Для дома и дачи|Мебель и интерьер|Столы и стулья   \n",
       "21           21  Для дома и дачи|Ремонт и строительство|Сантехн...   \n",
       "49           49                      Хобби и отдых|Охота и рыбалка   \n",
       "29           29  Для дома и дачи|Бытовая техника|Для кухни|Мелк...   \n",
       "39           39  Личные вещи|Одежда, обувь, аксессуары|Женская ...   \n",
       "37           37  Личные вещи|Красота и здоровье|Приборы и аксес...   \n",
       "25           25       Для дома и дачи|Ремонт и строительство|Двери   \n",
       "8             8  Бытовая электроника|Игры, приставки и программ...   \n",
       "52           52  Хобби и отдых|Музыкальные инструменты|Для студ...   \n",
       "27           27  Для дома и дачи|Мебель и интерьер|Текстиль и к...   \n",
       "\n",
       "              1st_level                    2nd_level               3rd_level  \\\n",
       "22      Для дома и дачи            Мебель и интерьер          Столы и стулья   \n",
       "21      Для дома и дачи       Ремонт и строительство      Сантехника и сауна   \n",
       "49        Хобби и отдых              Охота и рыбалка                       0   \n",
       "29      Для дома и дачи              Бытовая техника               Для кухни   \n",
       "39          Личные вещи    Одежда, обувь, аксессуары          Женская одежда   \n",
       "37          Личные вещи           Красота и здоровье    Приборы и аксессуары   \n",
       "25      Для дома и дачи       Ремонт и строительство                   Двери   \n",
       "8   Бытовая электроника  Игры, приставки и программы      Игры для приставок   \n",
       "52        Хобби и отдых      Музыкальные инструменты  Для студии и концертов   \n",
       "27      Для дома и дачи            Мебель и интерьер        Текстиль и ковры   \n",
       "\n",
       "                  4th_level  \n",
       "22                        0  \n",
       "21                        0  \n",
       "49                        0  \n",
       "29  Мелкая кухонная техника  \n",
       "39                    Обувь  \n",
       "37                        0  \n",
       "25                        0  \n",
       "8                         0  \n",
       "52                        0  \n",
       "27                        0  "
      ]
     },
     "execution_count": 15,
     "metadata": {},
     "output_type": "execute_result"
    }
   ],
   "source": [
    "category.sample(10)"
   ]
  },
  {
   "cell_type": "markdown",
   "metadata": {},
   "source": [
    "# Preprocessing\n",
    "### I assume that we should lowercase the text and remove the punctuation"
   ]
  },
  {
   "cell_type": "code",
   "execution_count": 16,
   "metadata": {},
   "outputs": [
    {
     "data": {
      "text/html": [
       "<div>\n",
       "<style scoped>\n",
       "    .dataframe tbody tr th:only-of-type {\n",
       "        vertical-align: middle;\n",
       "    }\n",
       "\n",
       "    .dataframe tbody tr th {\n",
       "        vertical-align: top;\n",
       "    }\n",
       "\n",
       "    .dataframe thead th {\n",
       "        text-align: right;\n",
       "    }\n",
       "</style>\n",
       "<table border=\"1\" class=\"dataframe\">\n",
       "  <thead>\n",
       "    <tr style=\"text-align: right;\">\n",
       "      <th></th>\n",
       "      <th>item_id</th>\n",
       "      <th>title</th>\n",
       "      <th>description</th>\n",
       "      <th>price</th>\n",
       "      <th>category_id</th>\n",
       "    </tr>\n",
       "  </thead>\n",
       "  <tbody>\n",
       "    <tr>\n",
       "      <th>202012</th>\n",
       "      <td>202012</td>\n",
       "      <td>cisco me 3400 24ts ac</td>\n",
       "      <td>габаритные размеры вхшхг 44 5 см x 4 5 см x 23...</td>\n",
       "      <td>7000.0</td>\n",
       "      <td>14</td>\n",
       "    </tr>\n",
       "    <tr>\n",
       "      <th>357372</th>\n",
       "      <td>357372</td>\n",
       "      <td>зимние женские сапоги</td>\n",
       "      <td>черного цвета снаружи иск замша внутри иск мех...</td>\n",
       "      <td>600.0</td>\n",
       "      <td>39</td>\n",
       "    </tr>\n",
       "    <tr>\n",
       "      <th>213393</th>\n",
       "      <td>213393</td>\n",
       "      <td>шкаф купе</td>\n",
       "      <td>шкаф купе двухдверный изготовлен из лдсп высок...</td>\n",
       "      <td>8550.0</td>\n",
       "      <td>18</td>\n",
       "    </tr>\n",
       "    <tr>\n",
       "      <th>184351</th>\n",
       "      <td>184351</td>\n",
       "      <td>продаю абсолютно новую мультиварку maxwell mw 380</td>\n",
       "      <td>продаю абсолютно новую не распакованная в целл...</td>\n",
       "      <td>1900.0</td>\n",
       "      <td>29</td>\n",
       "    </tr>\n",
       "    <tr>\n",
       "      <th>487023</th>\n",
       "      <td>487023</td>\n",
       "      <td>смесь frisolac1</td>\n",
       "      <td>сухая адаптированная смесь для детского питани...</td>\n",
       "      <td>200.0</td>\n",
       "      <td>41</td>\n",
       "    </tr>\n",
       "    <tr>\n",
       "      <th>28218</th>\n",
       "      <td>28218</td>\n",
       "      <td>каркас кровати хемнэс с реечным дном</td>\n",
       "      <td>продам б у каркас кровати с реечным дном состо...</td>\n",
       "      <td>8000.0</td>\n",
       "      <td>16</td>\n",
       "    </tr>\n",
       "    <tr>\n",
       "      <th>367769</th>\n",
       "      <td>367769</td>\n",
       "      <td>колье серебро бирюза жемчуг</td>\n",
       "      <td>продам авторское колье из серебра природной би...</td>\n",
       "      <td>3000.0</td>\n",
       "      <td>40</td>\n",
       "    </tr>\n",
       "    <tr>\n",
       "      <th>347465</th>\n",
       "      <td>347465</td>\n",
       "      <td>доминикана 16 01 на 12дн из мск</td>\n",
       "      <td>кабарет cabarete beach house at nanny estates ...</td>\n",
       "      <td>62900.0</td>\n",
       "      <td>48</td>\n",
       "    </tr>\n",
       "    <tr>\n",
       "      <th>229005</th>\n",
       "      <td>229005</td>\n",
       "      <td>праздничный тур в волгоград 06 05 09 05 16</td>\n",
       "      <td>в стоимость включено проезд проживание питание...</td>\n",
       "      <td>7400.0</td>\n",
       "      <td>48</td>\n",
       "    </tr>\n",
       "    <tr>\n",
       "      <th>271331</th>\n",
       "      <td>271331</td>\n",
       "      <td>кровать чердак</td>\n",
       "      <td>продам кровать чердак для ребёнка с матрацем в...</td>\n",
       "      <td>8000.0</td>\n",
       "      <td>23</td>\n",
       "    </tr>\n",
       "  </tbody>\n",
       "</table>\n",
       "</div>"
      ],
      "text/plain": [
       "        item_id                                              title  \\\n",
       "202012   202012                              cisco me 3400 24ts ac   \n",
       "357372   357372                              зимние женские сапоги   \n",
       "213393   213393                                          шкаф купе   \n",
       "184351   184351  продаю абсолютно новую мультиварку maxwell mw 380   \n",
       "487023   487023                                    смесь frisolac1   \n",
       "28218     28218               каркас кровати хемнэс с реечным дном   \n",
       "367769   367769                        колье серебро бирюза жемчуг   \n",
       "347465   347465                    доминикана 16 01 на 12дн из мск   \n",
       "229005   229005         праздничный тур в волгоград 06 05 09 05 16   \n",
       "271331   271331                                     кровать чердак   \n",
       "\n",
       "                                              description    price  \\\n",
       "202012  габаритные размеры вхшхг 44 5 см x 4 5 см x 23...   7000.0   \n",
       "357372  черного цвета снаружи иск замша внутри иск мех...    600.0   \n",
       "213393  шкаф купе двухдверный изготовлен из лдсп высок...   8550.0   \n",
       "184351  продаю абсолютно новую не распакованная в целл...   1900.0   \n",
       "487023  сухая адаптированная смесь для детского питани...    200.0   \n",
       "28218   продам б у каркас кровати с реечным дном состо...   8000.0   \n",
       "367769  продам авторское колье из серебра природной би...   3000.0   \n",
       "347465  кабарет cabarete beach house at nanny estates ...  62900.0   \n",
       "229005  в стоимость включено проезд проживание питание...   7400.0   \n",
       "271331  продам кровать чердак для ребёнка с матрацем в...   8000.0   \n",
       "\n",
       "        category_id  \n",
       "202012           14  \n",
       "357372           39  \n",
       "213393           18  \n",
       "184351           29  \n",
       "487023           41  \n",
       "28218            16  \n",
       "367769           40  \n",
       "347465           48  \n",
       "229005           48  \n",
       "271331           23  "
      ]
     },
     "execution_count": 16,
     "metadata": {},
     "output_type": "execute_result"
    }
   ],
   "source": [
    "train.title = train.title.apply(lambda x: re.sub(r'\\s+', ' ', re.sub(r'[^\\w\\s]',' ', x.lower().replace('-', ' ')).strip()))\n",
    "train.description = train.description.apply(lambda x: re.sub(r'\\s+', ' ', re.sub(r'[^\\w\\s]',' ', x.lower().replace('-', ' ')).strip()))\n",
    "train.sample(10)"
   ]
  },
  {
   "cell_type": "code",
   "execution_count": 17,
   "metadata": {},
   "outputs": [
    {
     "data": {
      "text/html": [
       "<div>\n",
       "<style scoped>\n",
       "    .dataframe tbody tr th:only-of-type {\n",
       "        vertical-align: middle;\n",
       "    }\n",
       "\n",
       "    .dataframe tbody tr th {\n",
       "        vertical-align: top;\n",
       "    }\n",
       "\n",
       "    .dataframe thead th {\n",
       "        text-align: right;\n",
       "    }\n",
       "</style>\n",
       "<table border=\"1\" class=\"dataframe\">\n",
       "  <thead>\n",
       "    <tr style=\"text-align: right;\">\n",
       "      <th></th>\n",
       "      <th>item_id</th>\n",
       "      <th>title</th>\n",
       "      <th>description</th>\n",
       "      <th>price</th>\n",
       "    </tr>\n",
       "  </thead>\n",
       "  <tbody>\n",
       "    <tr>\n",
       "      <th>23365</th>\n",
       "      <td>512882</td>\n",
       "      <td>шкатулки</td>\n",
       "      <td>шкатулка из змеевика</td>\n",
       "      <td>1700.0</td>\n",
       "    </tr>\n",
       "    <tr>\n",
       "      <th>40621</th>\n",
       "      <td>530138</td>\n",
       "      <td>высокая ваза с декоративными цветами</td>\n",
       "      <td>высокая ваза с декоративными цветами смотрится...</td>\n",
       "      <td>2000.0</td>\n",
       "    </tr>\n",
       "    <tr>\n",
       "      <th>102351</th>\n",
       "      <td>591868</td>\n",
       "      <td>для массажа второе сердце nuga best nm 55р</td>\n",
       "      <td>в аппарате второе сердце объединены контрастны...</td>\n",
       "      <td>21000.0</td>\n",
       "    </tr>\n",
       "    <tr>\n",
       "      <th>39620</th>\n",
       "      <td>529137</td>\n",
       "      <td>спортивная резина для workout</td>\n",
       "      <td>резиновые петли разной жесткости широко примен...</td>\n",
       "      <td>900.0</td>\n",
       "    </tr>\n",
       "    <tr>\n",
       "      <th>148542</th>\n",
       "      <td>638059</td>\n",
       "      <td>продам бритва philips</td>\n",
       "      <td>продам бритву philips в отличном состоянии исп...</td>\n",
       "      <td>3000.0</td>\n",
       "    </tr>\n",
       "    <tr>\n",
       "      <th>183452</th>\n",
       "      <td>672969</td>\n",
       "      <td>учебник краеведение</td>\n",
       "      <td>две части 1я и 3я каждая по 100 р</td>\n",
       "      <td>100.0</td>\n",
       "    </tr>\n",
       "    <tr>\n",
       "      <th>235288</th>\n",
       "      <td>724805</td>\n",
       "      <td>iphone 6s 16gb gold ростест неактивированный</td>\n",
       "      <td>продам айфон 6s 16gb золотого цвета телефон аб...</td>\n",
       "      <td>46000.0</td>\n",
       "    </tr>\n",
       "    <tr>\n",
       "      <th>13589</th>\n",
       "      <td>503106</td>\n",
       "      <td>пароварка</td>\n",
       "      <td>продается пароварка выглядит как новая готовил...</td>\n",
       "      <td>800.0</td>\n",
       "    </tr>\n",
       "    <tr>\n",
       "      <th>196903</th>\n",
       "      <td>686420</td>\n",
       "      <td>монитор lg</td>\n",
       "      <td>lg v k8810hfnr в хорошем состоянии</td>\n",
       "      <td>1000.0</td>\n",
       "    </tr>\n",
       "    <tr>\n",
       "      <th>13196</th>\n",
       "      <td>502713</td>\n",
       "      <td>комод</td>\n",
       "      <td>продам комод в хорошем состоянии 4 ящика ширин...</td>\n",
       "      <td>1700.0</td>\n",
       "    </tr>\n",
       "  </tbody>\n",
       "</table>\n",
       "</div>"
      ],
      "text/plain": [
       "        item_id                                         title  \\\n",
       "23365    512882                                      шкатулки   \n",
       "40621    530138          высокая ваза с декоративными цветами   \n",
       "102351   591868    для массажа второе сердце nuga best nm 55р   \n",
       "39620    529137                 спортивная резина для workout   \n",
       "148542   638059                         продам бритва philips   \n",
       "183452   672969                           учебник краеведение   \n",
       "235288   724805  iphone 6s 16gb gold ростест неактивированный   \n",
       "13589    503106                                     пароварка   \n",
       "196903   686420                                    монитор lg   \n",
       "13196    502713                                         комод   \n",
       "\n",
       "                                              description    price  \n",
       "23365                                шкатулка из змеевика   1700.0  \n",
       "40621   высокая ваза с декоративными цветами смотрится...   2000.0  \n",
       "102351  в аппарате второе сердце объединены контрастны...  21000.0  \n",
       "39620   резиновые петли разной жесткости широко примен...    900.0  \n",
       "148542  продам бритву philips в отличном состоянии исп...   3000.0  \n",
       "183452                  две части 1я и 3я каждая по 100 р    100.0  \n",
       "235288  продам айфон 6s 16gb золотого цвета телефон аб...  46000.0  \n",
       "13589   продается пароварка выглядит как новая готовил...    800.0  \n",
       "196903                 lg v k8810hfnr в хорошем состоянии   1000.0  \n",
       "13196   продам комод в хорошем состоянии 4 ящика ширин...   1700.0  "
      ]
     },
     "execution_count": 17,
     "metadata": {},
     "output_type": "execute_result"
    }
   ],
   "source": [
    "test.title = test.title.apply(lambda x: re.sub(r'\\s+', ' ', re.sub(r'[^\\w\\s]',' ', x.lower().replace('-', ' ')).strip()))\n",
    "test.description = test.description.apply(lambda x: re.sub(r'\\s+', ' ', re.sub(r'[^\\w\\s]',' ', x.lower().replace('-', ' ')).strip()))\n",
    "test.sample(10)"
   ]
  },
  {
   "cell_type": "markdown",
   "metadata": {},
   "source": [
    "### Let's look at the length distribution"
   ]
  },
  {
   "cell_type": "code",
   "execution_count": 18,
   "metadata": {},
   "outputs": [
    {
     "data": {
      "text/plain": [
       "<matplotlib.axes._subplots.AxesSubplot at 0x26a03404438>"
      ]
     },
     "execution_count": 18,
     "metadata": {},
     "output_type": "execute_result"
    },
    {
     "data": {
      "image/png": "[encoded data removed]",
      "text/plain": [
       "<Figure size 1008x432 with 1 Axes>"
      ]
     },
     "metadata": {},
     "output_type": "display_data"
    }
   ],
   "source": [
    "# for train.title\n",
    "lengths = train.title.apply(lambda x: len(x.split()))\n",
    "lengths.hist(bins = np.arange(start=1, stop=15, step=1), figsize=[14,6])"
   ]
  },
  {
   "cell_type": "code",
   "execution_count": 19,
   "metadata": {},
   "outputs": [
    {
     "data": {
      "text/plain": [
       "<matplotlib.axes._subplots.AxesSubplot at 0x26a26027d30>"
      ]
     },
     "execution_count": 19,
     "metadata": {},
     "output_type": "execute_result"
    },
    {
     "data": {
      "image/png": "[encoded data removed]",
      "text/plain": [
       "<Figure size 1008x432 with 1 Axes>"
      ]
     },
     "metadata": {},
     "output_type": "display_data"
    }
   ],
   "source": [
    "# for train.text\n",
    "lengths = train.description.apply(lambda x: len(x.split()))\n",
    "lengths.hist(bins = np.arange(start=1, stop=500, step=1), figsize=[14,6])"
   ]
  },
  {
   "cell_type": "code",
   "execution_count": 20,
   "metadata": {},
   "outputs": [
    {
     "data": {
      "text/plain": [
       "<matplotlib.axes._subplots.AxesSubplot at 0x26a1a1e1828>"
      ]
     },
     "execution_count": 20,
     "metadata": {},
     "output_type": "execute_result"
    },
    {
     "data": {
      "image/png": "[encoded data removed]",
      "text/plain": [
       "<Figure size 1008x432 with 1 Axes>"
      ]
     },
     "metadata": {},
     "output_type": "display_data"
    }
   ],
   "source": [
    "# for test.title\n",
    "lengths = test.title.apply(lambda x: len(x.split()))\n",
    "lengths.hist(bins = np.arange(start=1, stop=15, step=1), figsize=[14,6])"
   ]
  },
  {
   "cell_type": "code",
   "execution_count": 21,
   "metadata": {},
   "outputs": [
    {
     "data": {
      "text/plain": [
       "<matplotlib.axes._subplots.AxesSubplot at 0x26a147d2240>"
      ]
     },
     "execution_count": 21,
     "metadata": {},
     "output_type": "execute_result"
    },
    {
     "data": {
      "image/png": "[encoded data removed]",
      "text/plain": [
       "<Figure size 1008x432 with 1 Axes>"
      ]
     },
     "metadata": {},
     "output_type": "display_data"
    }
   ],
   "source": [
    "# for test.text\n",
    "lengths = test.description.apply(lambda x: len(x.split()))\n",
    "lengths.hist(bins = np.arange(start=1, stop=500, step=1), figsize=[14,6])"
   ]
  },
  {
   "cell_type": "markdown",
   "metadata": {},
   "source": [
    "### Remove russian stopwords (from nltk.corpus) and lemmatize the words, did it only once, then saved results"
   ]
  },
  {
   "cell_type": "code",
   "execution_count": 22,
   "metadata": {},
   "outputs": [],
   "source": [
    "morph = pymorphy2.MorphAnalyzer()"
   ]
  },
  {
   "cell_type": "code",
   "execution_count": 23,
   "metadata": {},
   "outputs": [],
   "source": [
    "def morph_prepr(text):\n",
    "    words = [morph.parse(i)[0].normalized.word for i in text.split(' ')]\n",
    "    words = [x for x in words if x not in nltk_stopwords.words('russian') and x!='\\n']\n",
    "    text = \" \".join(words)\n",
    "    return text"
   ]
  },
  {
   "cell_type": "code",
   "execution_count": 24,
   "metadata": {},
   "outputs": [],
   "source": [
    "def pre_apply(texts):\n",
    "    pre = texts.apply(lambda x: morph_prepr(x))\n",
    "    return pre"
   ]
  },
  {
   "cell_type": "code",
   "execution_count": 25,
   "metadata": {
    "scrolled": true
   },
   "outputs": [],
   "source": [
    "def parallelize(data, func):\n",
    "    data_split = np.array_split(data, partitions)\n",
    "    pool = Pool(cores)\n",
    "    data = pd.concat(pool.map(func, data_split))\n",
    "    pool.close()\n",
    "    pool.join()\n",
    "    return data\n",
    "cores = 20\n",
    "partitions = cores"
   ]
  },
  {
   "cell_type": "code",
   "execution_count": 26,
   "metadata": {},
   "outputs": [],
   "source": [
    "#%%time\n",
    "#preprocessed = parallelize(train['title'], pre_apply)\n",
    "#train['title'] = preprocessed.values\n",
    "#train.head(10)"
   ]
  },
  {
   "cell_type": "code",
   "execution_count": 27,
   "metadata": {},
   "outputs": [],
   "source": [
    "#%%time\n",
    "#preprocessed = parallelize(train['description'], pre_apply)\n",
    "#train['description'] = preprocessed.values\n",
    "#train.head(10)"
   ]
  },
  {
   "cell_type": "code",
   "execution_count": 28,
   "metadata": {},
   "outputs": [],
   "source": [
    "#%%time\n",
    "#preprocessed = parallelize(test['title'], pre_apply)\n",
    "#test['title'] = preprocessed.values\n",
    "#test.head(10)"
   ]
  },
  {
   "cell_type": "code",
   "execution_count": 29,
   "metadata": {},
   "outputs": [],
   "source": [
    "#%%time\n",
    "#preprocessed = parallelize(test['description'], pre_apply)\n",
    "#test['description'] = preprocessed.values\n",
    "#test.head(10)"
   ]
  },
  {
   "cell_type": "code",
   "execution_count": 30,
   "metadata": {},
   "outputs": [],
   "source": [
    "#train.to_csv(\"train_preprocessed.csv\", index=None)\n",
    "#test.to_csv(\"test_preprocessed.csv\", index=None)"
   ]
  },
  {
   "cell_type": "code",
   "execution_count": 2,
   "metadata": {},
   "outputs": [
    {
     "data": {
      "text/html": [
       "<div>\n",
       "<style scoped>\n",
       "    .dataframe tbody tr th:only-of-type {\n",
       "        vertical-align: middle;\n",
       "    }\n",
       "\n",
       "    .dataframe tbody tr th {\n",
       "        vertical-align: top;\n",
       "    }\n",
       "\n",
       "    .dataframe thead th {\n",
       "        text-align: right;\n",
       "    }\n",
       "</style>\n",
       "<table border=\"1\" class=\"dataframe\">\n",
       "  <thead>\n",
       "    <tr style=\"text-align: right;\">\n",
       "      <th></th>\n",
       "      <th>item_id</th>\n",
       "      <th>title</th>\n",
       "      <th>description</th>\n",
       "      <th>price</th>\n",
       "      <th>category_id</th>\n",
       "    </tr>\n",
       "  </thead>\n",
       "  <tbody>\n",
       "    <tr>\n",
       "      <th>45364</th>\n",
       "      <td>45364</td>\n",
       "      <td>Матрица для ноутбука LTN156AT24 B01</td>\n",
       "      <td>Матрица для ноутбука LTN156AT24 B01; Диагональ...</td>\n",
       "      <td>2850.0</td>\n",
       "      <td>13</td>\n",
       "    </tr>\n",
       "    <tr>\n",
       "      <th>471907</th>\n",
       "      <td>471907</td>\n",
       "      <td>Дрель</td>\n",
       "      <td>В отличном состоянии.</td>\n",
       "      <td>1500.0</td>\n",
       "      <td>17</td>\n",
       "    </tr>\n",
       "    <tr>\n",
       "      <th>196961</th>\n",
       "      <td>196961</td>\n",
       "      <td>Часы GF Ferre оригинал</td>\n",
       "      <td>Потрясающе красивые,элитные часы.</td>\n",
       "      <td>17000.0</td>\n",
       "      <td>36</td>\n",
       "    </tr>\n",
       "    <tr>\n",
       "      <th>256947</th>\n",
       "      <td>256947</td>\n",
       "      <td>Детская кроватка с матрацем и бортиками</td>\n",
       "      <td>Кроватка с матрацем и бортиками в отличном сос...</td>\n",
       "      <td>3500.0</td>\n",
       "      <td>34</td>\n",
       "    </tr>\n",
       "    <tr>\n",
       "      <th>353200</th>\n",
       "      <td>353200</td>\n",
       "      <td>Вещьмишок</td>\n",
       "      <td>Вещь Мишок, 90 литров , брал за 6000₽ звонить ...</td>\n",
       "      <td>4000.0</td>\n",
       "      <td>49</td>\n",
       "    </tr>\n",
       "    <tr>\n",
       "      <th>227176</th>\n",
       "      <td>227176</td>\n",
       "      <td>Ковры. Хит-сет. Мозайка. 2082b3. 1.6х2.3м. Вит...</td>\n",
       "      <td>══════════════════════════════════════­­­═   В...</td>\n",
       "      <td>4328.0</td>\n",
       "      <td>27</td>\n",
       "    </tr>\n",
       "    <tr>\n",
       "      <th>212230</th>\n",
       "      <td>212230</td>\n",
       "      <td>Защита usd pro</td>\n",
       "      <td>Защита колено-голень размер s/m  Катана сезон</td>\n",
       "      <td>1500.0</td>\n",
       "      <td>53</td>\n",
       "    </tr>\n",
       "    <tr>\n",
       "      <th>92059</th>\n",
       "      <td>92059</td>\n",
       "      <td>Кагуль</td>\n",
       "      <td>Оплечье с капюшоном из объемной пряжи, очень т...</td>\n",
       "      <td>1800.0</td>\n",
       "      <td>31</td>\n",
       "    </tr>\n",
       "    <tr>\n",
       "      <th>204006</th>\n",
       "      <td>204006</td>\n",
       "      <td>Игра Гарри Поттер и Принц полукровка для PS3</td>\n",
       "      <td>Игра Гарри Поттер и Принц полукровка для PS3  ...</td>\n",
       "      <td>250.0</td>\n",
       "      <td>8</td>\n",
       "    </tr>\n",
       "    <tr>\n",
       "      <th>301458</th>\n",
       "      <td>301458</td>\n",
       "      <td>Табурет</td>\n",
       "      <td>4 табуретки в отличном состоянии. Торг уместен.</td>\n",
       "      <td>1000.0</td>\n",
       "      <td>22</td>\n",
       "    </tr>\n",
       "  </tbody>\n",
       "</table>\n",
       "</div>"
      ],
      "text/plain": [
       "        item_id                                              title  \\\n",
       "45364     45364                Матрица для ноутбука LTN156AT24 B01   \n",
       "471907   471907                                              Дрель   \n",
       "196961   196961                             Часы GF Ferre оригинал   \n",
       "256947   256947            Детская кроватка с матрацем и бортиками   \n",
       "353200   353200                                          Вещьмишок   \n",
       "227176   227176  Ковры. Хит-сет. Мозайка. 2082b3. 1.6х2.3м. Вит...   \n",
       "212230   212230                                     Защита usd pro   \n",
       "92059     92059                                             Кагуль   \n",
       "204006   204006       Игра Гарри Поттер и Принц полукровка для PS3   \n",
       "301458   301458                                            Табурет   \n",
       "\n",
       "                                              description    price  \\\n",
       "45364   Матрица для ноутбука LTN156AT24 B01; Диагональ...   2850.0   \n",
       "471907                              В отличном состоянии.   1500.0   \n",
       "196961                  Потрясающе красивые,элитные часы.  17000.0   \n",
       "256947  Кроватка с матрацем и бортиками в отличном сос...   3500.0   \n",
       "353200  Вещь Мишок, 90 литров , брал за 6000₽ звонить ...   4000.0   \n",
       "227176  ══════════════════════════════════════­­­═   В...   4328.0   \n",
       "212230      Защита колено-голень размер s/m  Катана сезон   1500.0   \n",
       "92059   Оплечье с капюшоном из объемной пряжи, очень т...   1800.0   \n",
       "204006  Игра Гарри Поттер и Принц полукровка для PS3  ...    250.0   \n",
       "301458    4 табуретки в отличном состоянии. Торг уместен.   1000.0   \n",
       "\n",
       "        category_id  \n",
       "45364            13  \n",
       "471907           17  \n",
       "196961           36  \n",
       "256947           34  \n",
       "353200           49  \n",
       "227176           27  \n",
       "212230           53  \n",
       "92059            31  \n",
       "204006            8  \n",
       "301458           22  "
      ]
     },
     "execution_count": 2,
     "metadata": {},
     "output_type": "execute_result"
    }
   ],
   "source": [
    "train_old = pd.read_csv('train.csv')\n",
    "train_old.sample(10)"
   ]
  },
  {
   "cell_type": "code",
   "execution_count": 2,
   "metadata": {},
   "outputs": [
    {
     "data": {
      "text/html": [
       "<div>\n",
       "<style scoped>\n",
       "    .dataframe tbody tr th:only-of-type {\n",
       "        vertical-align: middle;\n",
       "    }\n",
       "\n",
       "    .dataframe tbody tr th {\n",
       "        vertical-align: top;\n",
       "    }\n",
       "\n",
       "    .dataframe thead th {\n",
       "        text-align: right;\n",
       "    }\n",
       "</style>\n",
       "<table border=\"1\" class=\"dataframe\">\n",
       "  <thead>\n",
       "    <tr style=\"text-align: right;\">\n",
       "      <th></th>\n",
       "      <th>item_id</th>\n",
       "      <th>title</th>\n",
       "      <th>description</th>\n",
       "      <th>price</th>\n",
       "      <th>category_id</th>\n",
       "    </tr>\n",
       "  </thead>\n",
       "  <tbody>\n",
       "    <tr>\n",
       "      <th>201047</th>\n",
       "      <td>201047</td>\n",
       "      <td>стол книжка</td>\n",
       "      <td>стол книжка среднее состояние очень дёшево</td>\n",
       "      <td>350.0</td>\n",
       "      <td>22</td>\n",
       "    </tr>\n",
       "    <tr>\n",
       "      <th>156482</th>\n",
       "      <td>156482</td>\n",
       "      <td>велокомпьютер 8 13111060 cat10 10 функция author</td>\n",
       "      <td>велокомпьютер 8 13111060 cat10 10 функция auth...</td>\n",
       "      <td>1640.0</td>\n",
       "      <td>53</td>\n",
       "    </tr>\n",
       "    <tr>\n",
       "      <th>10578</th>\n",
       "      <td>10578</td>\n",
       "      <td>одеяло новое 2х спальный наполнитель халафа йбер</td>\n",
       "      <td>новое одеяло новое 2х спальный наполнитель хал...</td>\n",
       "      <td>1700.0</td>\n",
       "      <td>27</td>\n",
       "    </tr>\n",
       "    <tr>\n",
       "      <th>126029</th>\n",
       "      <td>126029</td>\n",
       "      <td>медицинский прибор элитон</td>\n",
       "      <td>автономный физиотерапевтический многофункциона...</td>\n",
       "      <td>1000.0</td>\n",
       "      <td>37</td>\n",
       "    </tr>\n",
       "    <tr>\n",
       "      <th>80429</th>\n",
       "      <td>80429</td>\n",
       "      <td>продать коляска трость</td>\n",
       "      <td>продать коляска трость подходить девочка мальч...</td>\n",
       "      <td>800.0</td>\n",
       "      <td>32</td>\n",
       "    </tr>\n",
       "    <tr>\n",
       "      <th>198510</th>\n",
       "      <td>198510</td>\n",
       "      <td>системный блок intel celeron cpu 430 1 80ghz 775</td>\n",
       "      <td>продать системный блок процессор intel celeron...</td>\n",
       "      <td>2000.0</td>\n",
       "      <td>7</td>\n",
       "    </tr>\n",
       "    <tr>\n",
       "      <th>353492</th>\n",
       "      <td>353492</td>\n",
       "      <td>прихожая</td>\n",
       "      <td>мебель прихожая хороший состояние шкаф шкаф по...</td>\n",
       "      <td>1500.0</td>\n",
       "      <td>18</td>\n",
       "    </tr>\n",
       "    <tr>\n",
       "      <th>36912</th>\n",
       "      <td>36912</td>\n",
       "      <td>doogee f3 pro новый</td>\n",
       "      <td>продавать android смартфон doogee f3 pro хорош...</td>\n",
       "      <td>10900.0</td>\n",
       "      <td>6</td>\n",
       "    </tr>\n",
       "    <tr>\n",
       "      <th>383724</th>\n",
       "      <td>383724</td>\n",
       "      <td>большой набор база щенячийпатруль арт 9 4 8l1o</td>\n",
       "      <td>люба желать поcетить большой офис спасатель pa...</td>\n",
       "      <td>4931.0</td>\n",
       "      <td>30</td>\n",
       "    </tr>\n",
       "    <tr>\n",
       "      <th>12906</th>\n",
       "      <td>12906</td>\n",
       "      <td>детский комната</td>\n",
       "      <td>школьный уголок омег 6 производство год волжск...</td>\n",
       "      <td>16200.0</td>\n",
       "      <td>23</td>\n",
       "    </tr>\n",
       "  </tbody>\n",
       "</table>\n",
       "</div>"
      ],
      "text/plain": [
       "        item_id                                             title  \\\n",
       "201047   201047                                       стол книжка   \n",
       "156482   156482  велокомпьютер 8 13111060 cat10 10 функция author   \n",
       "10578     10578  одеяло новое 2х спальный наполнитель халафа йбер   \n",
       "126029   126029                         медицинский прибор элитон   \n",
       "80429     80429                            продать коляска трость   \n",
       "198510   198510  системный блок intel celeron cpu 430 1 80ghz 775   \n",
       "353492   353492                                          прихожая   \n",
       "36912     36912                               doogee f3 pro новый   \n",
       "383724   383724    большой набор база щенячийпатруль арт 9 4 8l1o   \n",
       "12906     12906                                   детский комната   \n",
       "\n",
       "                                              description    price  \\\n",
       "201047         стол книжка среднее состояние очень дёшево    350.0   \n",
       "156482  велокомпьютер 8 13111060 cat10 10 функция auth...   1640.0   \n",
       "10578   новое одеяло новое 2х спальный наполнитель хал...   1700.0   \n",
       "126029  автономный физиотерапевтический многофункциона...   1000.0   \n",
       "80429   продать коляска трость подходить девочка мальч...    800.0   \n",
       "198510  продать системный блок процессор intel celeron...   2000.0   \n",
       "353492  мебель прихожая хороший состояние шкаф шкаф по...   1500.0   \n",
       "36912   продавать android смартфон doogee f3 pro хорош...  10900.0   \n",
       "383724  люба желать поcетить большой офис спасатель pa...   4931.0   \n",
       "12906   школьный уголок омег 6 производство год волжск...  16200.0   \n",
       "\n",
       "        category_id  \n",
       "201047           22  \n",
       "156482           53  \n",
       "10578            27  \n",
       "126029           37  \n",
       "80429            32  \n",
       "198510            7  \n",
       "353492           18  \n",
       "36912             6  \n",
       "383724           30  \n",
       "12906            23  "
      ]
     },
     "execution_count": 2,
     "metadata": {},
     "output_type": "execute_result"
    }
   ],
   "source": [
    "train = pd.read_csv('train_preprocessed.csv')\n",
    "train.sample(10)"
   ]
  },
  {
   "cell_type": "code",
   "execution_count": 3,
   "metadata": {},
   "outputs": [
    {
     "data": {
      "text/html": [
       "<div>\n",
       "<style scoped>\n",
       "    .dataframe tbody tr th:only-of-type {\n",
       "        vertical-align: middle;\n",
       "    }\n",
       "\n",
       "    .dataframe tbody tr th {\n",
       "        vertical-align: top;\n",
       "    }\n",
       "\n",
       "    .dataframe thead th {\n",
       "        text-align: right;\n",
       "    }\n",
       "</style>\n",
       "<table border=\"1\" class=\"dataframe\">\n",
       "  <thead>\n",
       "    <tr style=\"text-align: right;\">\n",
       "      <th></th>\n",
       "      <th>item_id</th>\n",
       "      <th>title</th>\n",
       "      <th>description</th>\n",
       "      <th>price</th>\n",
       "    </tr>\n",
       "  </thead>\n",
       "  <tbody>\n",
       "    <tr>\n",
       "      <th>228201</th>\n",
       "      <td>717718</td>\n",
       "      <td>тренажёр</td>\n",
       "      <td>продать тренажёр хороший состояние</td>\n",
       "      <td>14000.0</td>\n",
       "    </tr>\n",
       "    <tr>\n",
       "      <th>212002</th>\n",
       "      <td>701519</td>\n",
       "      <td>продать светильник 2206 6 odeon</td>\n",
       "      <td>светильник подвесной артикул 2206 6 новый запе...</td>\n",
       "      <td>16318.0</td>\n",
       "    </tr>\n",
       "    <tr>\n",
       "      <th>188844</th>\n",
       "      <td>678361</td>\n",
       "      <td>туфля замшевый</td>\n",
       "      <td>продать туфля темно синий цвет замшевый отличн...</td>\n",
       "      <td>350.0</td>\n",
       "    </tr>\n",
       "    <tr>\n",
       "      <th>59554</th>\n",
       "      <td>549071</td>\n",
       "      <td>франческо петрарка сочинение</td>\n",
       "      <td>франческо петрарка сочинение москва издательст...</td>\n",
       "      <td>100.0</td>\n",
       "    </tr>\n",
       "    <tr>\n",
       "      <th>50266</th>\n",
       "      <td>539783</td>\n",
       "      <td>демисезонный сапог р р 38</td>\n",
       "      <td>б хороший состояние нат кожа удобный каблук го...</td>\n",
       "      <td>1000.0</td>\n",
       "    </tr>\n",
       "    <tr>\n",
       "      <th>143418</th>\n",
       "      <td>632935</td>\n",
       "      <td>фирменный посуда малышок</td>\n",
       "      <td>продать отличный набор посуда божий коровка ме...</td>\n",
       "      <td>600.0</td>\n",
       "    </tr>\n",
       "    <tr>\n",
       "      <th>22067</th>\n",
       "      <td>511584</td>\n",
       "      <td>bq aspen mini yellow новый</td>\n",
       "      <td>совершенно новый телефон год гарантия момент п...</td>\n",
       "      <td>2500.0</td>\n",
       "    </tr>\n",
       "    <tr>\n",
       "      <th>13997</th>\n",
       "      <td>503514</td>\n",
       "      <td>led tv samsung ue40j6200 40 102см</td>\n",
       "      <td>телевизор samsung ue40j6200 40 102см характери...</td>\n",
       "      <td>29500.0</td>\n",
       "    </tr>\n",
       "    <tr>\n",
       "      <th>62525</th>\n",
       "      <td>552042</td>\n",
       "      <td>таиланд районг доплата</td>\n",
       "      <td>вылет 31 март 8 день nice beach 2 завтрак 473 ...</td>\n",
       "      <td>36800.0</td>\n",
       "    </tr>\n",
       "    <tr>\n",
       "      <th>224207</th>\n",
       "      <td>713724</td>\n",
       "      <td>детский стульчик кормление 3 1</td>\n",
       "      <td>продать детский стульчик кормление 3 1 использ...</td>\n",
       "      <td>1500.0</td>\n",
       "    </tr>\n",
       "  </tbody>\n",
       "</table>\n",
       "</div>"
      ],
      "text/plain": [
       "        item_id                              title  \\\n",
       "228201   717718                           тренажёр   \n",
       "212002   701519    продать светильник 2206 6 odeon   \n",
       "188844   678361                     туфля замшевый   \n",
       "59554    549071       франческо петрарка сочинение   \n",
       "50266    539783          демисезонный сапог р р 38   \n",
       "143418   632935           фирменный посуда малышок   \n",
       "22067    511584         bq aspen mini yellow новый   \n",
       "13997    503514  led tv samsung ue40j6200 40 102см   \n",
       "62525    552042             таиланд районг доплата   \n",
       "224207   713724     детский стульчик кормление 3 1   \n",
       "\n",
       "                                              description    price  \n",
       "228201                 продать тренажёр хороший состояние  14000.0  \n",
       "212002  светильник подвесной артикул 2206 6 новый запе...  16318.0  \n",
       "188844  продать туфля темно синий цвет замшевый отличн...    350.0  \n",
       "59554   франческо петрарка сочинение москва издательст...    100.0  \n",
       "50266   б хороший состояние нат кожа удобный каблук го...   1000.0  \n",
       "143418  продать отличный набор посуда божий коровка ме...    600.0  \n",
       "22067   совершенно новый телефон год гарантия момент п...   2500.0  \n",
       "13997   телевизор samsung ue40j6200 40 102см характери...  29500.0  \n",
       "62525   вылет 31 март 8 день nice beach 2 завтрак 473 ...  36800.0  \n",
       "224207  продать детский стульчик кормление 3 1 использ...   1500.0  "
      ]
     },
     "execution_count": 3,
     "metadata": {},
     "output_type": "execute_result"
    }
   ],
   "source": [
    "test_old = pd.read_csv('test.csv')\n",
    "test = pd.read_csv('test_preprocessed.csv')\n",
    "test.sample(10)"
   ]
  },
  {
   "cell_type": "code",
   "execution_count": 5,
   "metadata": {},
   "outputs": [
    {
     "data": {
      "text/html": [
       "<div>\n",
       "<style scoped>\n",
       "    .dataframe tbody tr th:only-of-type {\n",
       "        vertical-align: middle;\n",
       "    }\n",
       "\n",
       "    .dataframe tbody tr th {\n",
       "        vertical-align: top;\n",
       "    }\n",
       "\n",
       "    .dataframe thead th {\n",
       "        text-align: right;\n",
       "    }\n",
       "</style>\n",
       "<table border=\"1\" class=\"dataframe\">\n",
       "  <thead>\n",
       "    <tr style=\"text-align: right;\">\n",
       "      <th></th>\n",
       "      <th>item_id</th>\n",
       "      <th>title</th>\n",
       "      <th>description</th>\n",
       "      <th>price</th>\n",
       "      <th>category_id</th>\n",
       "    </tr>\n",
       "  </thead>\n",
       "  <tbody>\n",
       "    <tr>\n",
       "      <th>87749</th>\n",
       "      <td>87749</td>\n",
       "      <td>usb wifi адаптер</td>\n",
       "      <td>NaN</td>\n",
       "      <td>350.0</td>\n",
       "      <td>14</td>\n",
       "    </tr>\n",
       "    <tr>\n",
       "      <th>114855</th>\n",
       "      <td>114855</td>\n",
       "      <td>продавать мебель плетёнка</td>\n",
       "      <td>NaN</td>\n",
       "      <td>10000.0</td>\n",
       "      <td>16</td>\n",
       "    </tr>\n",
       "    <tr>\n",
       "      <th>142792</th>\n",
       "      <td>142792</td>\n",
       "      <td>педаль новое</td>\n",
       "      <td>NaN</td>\n",
       "      <td>400.0</td>\n",
       "      <td>53</td>\n",
       "    </tr>\n",
       "    <tr>\n",
       "      <th>266145</th>\n",
       "      <td>266145</td>\n",
       "      <td>замена батарейка часы ала фаджр</td>\n",
       "      <td>NaN</td>\n",
       "      <td>100.0</td>\n",
       "      <td>36</td>\n",
       "    </tr>\n",
       "    <tr>\n",
       "      <th>332338</th>\n",
       "      <td>332338</td>\n",
       "      <td>перчатка</td>\n",
       "      <td>NaN</td>\n",
       "      <td>1000.0</td>\n",
       "      <td>31</td>\n",
       "    </tr>\n",
       "  </tbody>\n",
       "</table>\n",
       "</div>"
      ],
      "text/plain": [
       "        item_id                            title description    price  \\\n",
       "87749     87749                 usb wifi адаптер         NaN    350.0   \n",
       "114855   114855        продавать мебель плетёнка         NaN  10000.0   \n",
       "142792   142792                     педаль новое         NaN    400.0   \n",
       "266145   266145  замена батарейка часы ала фаджр         NaN    100.0   \n",
       "332338   332338                         перчатка         NaN   1000.0   \n",
       "\n",
       "        category_id  \n",
       "87749            14  \n",
       "114855           16  \n",
       "142792           53  \n",
       "266145           36  \n",
       "332338           31  "
      ]
     },
     "execution_count": 5,
     "metadata": {},
     "output_type": "execute_result"
    }
   ],
   "source": [
    "train[(train.description.apply(type) != str)]"
   ]
  },
  {
   "cell_type": "code",
   "execution_count": 6,
   "metadata": {},
   "outputs": [
    {
     "name": "stdout",
     "output_type": "stream",
     "text": [
      "............................\n",
      "......................................................................\n",
      "......... .............\n",
      "....................\n",
      ",,,,,,,,,,,,,,,,,,,,,,,,,,,,,,\n"
     ]
    }
   ],
   "source": [
    "print(*[train_old.description[x] for x in train[(train.description.apply(type) != str)].index], sep='\\n')"
   ]
  },
  {
   "cell_type": "code",
   "execution_count": 7,
   "metadata": {},
   "outputs": [
    {
     "name": "stdout",
     "output_type": "stream",
     "text": [
      "Usb WiFi адаптер\n",
      "Продаю мебель плетенка\n",
      "Педали новые\n",
      "Замена батарейки на часы Ал-фаджр\n",
      "Перчатки\n"
     ]
    }
   ],
   "source": [
    "print(*[train_old.title[x] for x in train[(train.description.apply(type) != str)].index], sep='\\n')"
   ]
  },
  {
   "cell_type": "markdown",
   "metadata": {},
   "source": [
    "### Interesting description"
   ]
  },
  {
   "cell_type": "code",
   "execution_count": 8,
   "metadata": {},
   "outputs": [
    {
     "data": {
      "text/html": [
       "<div>\n",
       "<style scoped>\n",
       "    .dataframe tbody tr th:only-of-type {\n",
       "        vertical-align: middle;\n",
       "    }\n",
       "\n",
       "    .dataframe tbody tr th {\n",
       "        vertical-align: top;\n",
       "    }\n",
       "\n",
       "    .dataframe thead th {\n",
       "        text-align: right;\n",
       "    }\n",
       "</style>\n",
       "<table border=\"1\" class=\"dataframe\">\n",
       "  <thead>\n",
       "    <tr style=\"text-align: right;\">\n",
       "      <th></th>\n",
       "      <th>item_id</th>\n",
       "      <th>title</th>\n",
       "      <th>description</th>\n",
       "      <th>price</th>\n",
       "      <th>category_id</th>\n",
       "    </tr>\n",
       "  </thead>\n",
       "  <tbody>\n",
       "    <tr>\n",
       "      <th>6314</th>\n",
       "      <td>6314</td>\n",
       "      <td>NaN</td>\n",
       "      <td>светильник настольный camelion лампа накаливан...</td>\n",
       "      <td>900.0</td>\n",
       "      <td>23</td>\n",
       "    </tr>\n",
       "    <tr>\n",
       "      <th>44422</th>\n",
       "      <td>44422</td>\n",
       "      <td>NaN</td>\n",
       "      <td>очень интересный неожиданный сюжет</td>\n",
       "      <td>1000.0</td>\n",
       "      <td>8</td>\n",
       "    </tr>\n",
       "    <tr>\n",
       "      <th>98969</th>\n",
       "      <td>98969</td>\n",
       "      <td>NaN</td>\n",
       "      <td>пока видеть объявление оно актуально</td>\n",
       "      <td>1800.0</td>\n",
       "      <td>8</td>\n",
       "    </tr>\n",
       "    <tr>\n",
       "      <th>142503</th>\n",
       "      <td>142503</td>\n",
       "      <td>NaN</td>\n",
       "      <td>диск отличный состояние эксклюзив playstation ...</td>\n",
       "      <td>800.0</td>\n",
       "      <td>8</td>\n",
       "    </tr>\n",
       "    <tr>\n",
       "      <th>143093</th>\n",
       "      <td>143093</td>\n",
       "      <td>NaN</td>\n",
       "      <td>хороший состояние полностью рабочий подходить ...</td>\n",
       "      <td>1000.0</td>\n",
       "      <td>3</td>\n",
       "    </tr>\n",
       "    <tr>\n",
       "      <th>150908</th>\n",
       "      <td>150908</td>\n",
       "      <td>NaN</td>\n",
       "      <td>продать игра ps4 отличный состояние цена оконч...</td>\n",
       "      <td>1000.0</td>\n",
       "      <td>8</td>\n",
       "    </tr>\n",
       "    <tr>\n",
       "      <th>154005</th>\n",
       "      <td>154005</td>\n",
       "      <td>NaN</td>\n",
       "      <td>3том издательство метр педагогика 1975г твёрды...</td>\n",
       "      <td>1500.0</td>\n",
       "      <td>43</td>\n",
       "    </tr>\n",
       "    <tr>\n",
       "      <th>165702</th>\n",
       "      <td>165702</td>\n",
       "      <td>NaN</td>\n",
       "      <td>1988г 365страница это сборник открывать библио...</td>\n",
       "      <td>90.0</td>\n",
       "      <td>43</td>\n",
       "    </tr>\n",
       "    <tr>\n",
       "      <th>194992</th>\n",
       "      <td>194992</td>\n",
       "      <td>NaN</td>\n",
       "      <td>купить август 2015 весь пройти данный момент п...</td>\n",
       "      <td>1000.0</td>\n",
       "      <td>8</td>\n",
       "    </tr>\n",
       "    <tr>\n",
       "      <th>205354</th>\n",
       "      <td>205354</td>\n",
       "      <td>NaN</td>\n",
       "      <td>отличный игра хороший игра десятилетие обмен н...</td>\n",
       "      <td>700.0</td>\n",
       "      <td>8</td>\n",
       "    </tr>\n",
       "    <tr>\n",
       "      <th>211422</th>\n",
       "      <td>211422</td>\n",
       "      <td>NaN</td>\n",
       "      <td>продать игра окончательно диск хороший состоян...</td>\n",
       "      <td>1200.0</td>\n",
       "      <td>8</td>\n",
       "    </tr>\n",
       "    <tr>\n",
       "      <th>253349</th>\n",
       "      <td>253349</td>\n",
       "      <td>NaN</td>\n",
       "      <td>диск хороший состояние возможный обмен</td>\n",
       "      <td>1200.0</td>\n",
       "      <td>8</td>\n",
       "    </tr>\n",
       "    <tr>\n",
       "      <th>268946</th>\n",
       "      <td>268946</td>\n",
       "      <td>NaN</td>\n",
       "      <td>изделие дерево наличие заказ воплотить ваш фан...</td>\n",
       "      <td>3299.0</td>\n",
       "      <td>19</td>\n",
       "    </tr>\n",
       "    <tr>\n",
       "      <th>269682</th>\n",
       "      <td>269682</td>\n",
       "      <td>NaN</td>\n",
       "      <td>продаваться новый капюшон размер 48 50 остатьс...</td>\n",
       "      <td>600.0</td>\n",
       "      <td>38</td>\n",
       "    </tr>\n",
       "    <tr>\n",
       "      <th>286704</th>\n",
       "      <td>286704</td>\n",
       "      <td>NaN</td>\n",
       "      <td>новый бампер 2 штука немного потёртый угол нор...</td>\n",
       "      <td>7000.0</td>\n",
       "      <td>2</td>\n",
       "    </tr>\n",
       "    <tr>\n",
       "      <th>322937</th>\n",
       "      <td>322937</td>\n",
       "      <td>NaN</td>\n",
       "      <td>обменять диск хороший состояние предложение пи...</td>\n",
       "      <td>2000.0</td>\n",
       "      <td>8</td>\n",
       "    </tr>\n",
       "    <tr>\n",
       "      <th>344882</th>\n",
       "      <td>344882</td>\n",
       "      <td>NaN</td>\n",
       "      <td>диск отличный состояние</td>\n",
       "      <td>1000.0</td>\n",
       "      <td>8</td>\n",
       "    </tr>\n",
       "    <tr>\n",
       "      <th>353699</th>\n",
       "      <td>353699</td>\n",
       "      <td>NaN</td>\n",
       "      <td>полностью русский диск идеальный состояние</td>\n",
       "      <td>900.0</td>\n",
       "      <td>8</td>\n",
       "    </tr>\n",
       "    <tr>\n",
       "      <th>356918</th>\n",
       "      <td>356918</td>\n",
       "      <td>NaN</td>\n",
       "      <td>продать отличный состояние last of us обновить...</td>\n",
       "      <td>1000.0</td>\n",
       "      <td>8</td>\n",
       "    </tr>\n",
       "    <tr>\n",
       "      <th>451663</th>\n",
       "      <td>451663</td>\n",
       "      <td>NaN</td>\n",
       "      <td>шкаф кровать компьютерный стол длина 183 шир 8...</td>\n",
       "      <td>12000.0</td>\n",
       "      <td>18</td>\n",
       "    </tr>\n",
       "    <tr>\n",
       "      <th>458761</th>\n",
       "      <td>458761</td>\n",
       "      <td>NaN</td>\n",
       "      <td>продать стол компьютерный угловой пенал тумбаtv</td>\n",
       "      <td>5000.0</td>\n",
       "      <td>23</td>\n",
       "    </tr>\n",
       "    <tr>\n",
       "      <th>484506</th>\n",
       "      <td>484506</td>\n",
       "      <td>NaN</td>\n",
       "      <td>1000 mortal kombat 1000 nba 2k14 600 heavy rai...</td>\n",
       "      <td>1000.0</td>\n",
       "      <td>8</td>\n",
       "    </tr>\n",
       "  </tbody>\n",
       "</table>\n",
       "</div>"
      ],
      "text/plain": [
       "        item_id title                                        description  \\\n",
       "6314       6314   NaN  светильник настольный camelion лампа накаливан...   \n",
       "44422     44422   NaN                 очень интересный неожиданный сюжет   \n",
       "98969     98969   NaN               пока видеть объявление оно актуально   \n",
       "142503   142503   NaN  диск отличный состояние эксклюзив playstation ...   \n",
       "143093   143093   NaN  хороший состояние полностью рабочий подходить ...   \n",
       "150908   150908   NaN  продать игра ps4 отличный состояние цена оконч...   \n",
       "154005   154005   NaN  3том издательство метр педагогика 1975г твёрды...   \n",
       "165702   165702   NaN  1988г 365страница это сборник открывать библио...   \n",
       "194992   194992   NaN  купить август 2015 весь пройти данный момент п...   \n",
       "205354   205354   NaN  отличный игра хороший игра десятилетие обмен н...   \n",
       "211422   211422   NaN  продать игра окончательно диск хороший состоян...   \n",
       "253349   253349   NaN             диск хороший состояние возможный обмен   \n",
       "268946   268946   NaN  изделие дерево наличие заказ воплотить ваш фан...   \n",
       "269682   269682   NaN  продаваться новый капюшон размер 48 50 остатьс...   \n",
       "286704   286704   NaN  новый бампер 2 штука немного потёртый угол нор...   \n",
       "322937   322937   NaN  обменять диск хороший состояние предложение пи...   \n",
       "344882   344882   NaN                            диск отличный состояние   \n",
       "353699   353699   NaN         полностью русский диск идеальный состояние   \n",
       "356918   356918   NaN  продать отличный состояние last of us обновить...   \n",
       "451663   451663   NaN  шкаф кровать компьютерный стол длина 183 шир 8...   \n",
       "458761   458761   NaN    продать стол компьютерный угловой пенал тумбаtv   \n",
       "484506   484506   NaN  1000 mortal kombat 1000 nba 2k14 600 heavy rai...   \n",
       "\n",
       "          price  category_id  \n",
       "6314      900.0           23  \n",
       "44422    1000.0            8  \n",
       "98969    1800.0            8  \n",
       "142503    800.0            8  \n",
       "143093   1000.0            3  \n",
       "150908   1000.0            8  \n",
       "154005   1500.0           43  \n",
       "165702     90.0           43  \n",
       "194992   1000.0            8  \n",
       "205354    700.0            8  \n",
       "211422   1200.0            8  \n",
       "253349   1200.0            8  \n",
       "268946   3299.0           19  \n",
       "269682    600.0           38  \n",
       "286704   7000.0            2  \n",
       "322937   2000.0            8  \n",
       "344882   1000.0            8  \n",
       "353699    900.0            8  \n",
       "356918   1000.0            8  \n",
       "451663  12000.0           18  \n",
       "458761   5000.0           23  \n",
       "484506   1000.0            8  "
      ]
     },
     "execution_count": 8,
     "metadata": {},
     "output_type": "execute_result"
    }
   ],
   "source": [
    "train[(train.title.apply(type) != str)]"
   ]
  },
  {
   "cell_type": "code",
   "execution_count": 9,
   "metadata": {},
   "outputs": [
    {
     "name": "stdout",
     "output_type": "stream",
     "text": [
      "Другое\n",
      "Одни из нас\n",
      "Одни из нас\n",
      "Одни из нас\n",
      "Другой\n",
      "Одни из нас\n",
      "Что такое Кто такой\n",
      "\"Ты и я\"\n",
      "Один из нас\n",
      "Одни из нас\n",
      "Один из нас\n",
      "Одни из нас\n",
      "Будет только у Вас\n",
      "Другое\n",
      "Третий\n",
      "Одни из нас\n",
      "Один из нас\n",
      "Одни из нас\n",
      "Одни из нас\n",
      "Три в одном\n",
      "Другое\n",
      "Одни из нас\n"
     ]
    }
   ],
   "source": [
    "print(*[train_old.title[x] for x in train[(train.title.apply(type) != str)].index], sep='\\n')"
   ]
  },
  {
   "cell_type": "code",
   "execution_count": 4,
   "metadata": {
    "scrolled": true
   },
   "outputs": [],
   "source": [
    "train = train.fillna(' ')\n",
    "test = test.fillna(' ')"
   ]
  },
  {
   "cell_type": "markdown",
   "metadata": {},
   "source": [
    "### After preprocessing"
   ]
  },
  {
   "cell_type": "code",
   "execution_count": 11,
   "metadata": {},
   "outputs": [
    {
     "data": {
      "text/plain": [
       "<matplotlib.axes._subplots.AxesSubplot at 0x24969f0c400>"
      ]
     },
     "execution_count": 11,
     "metadata": {},
     "output_type": "execute_result"
    },
    {
     "data": {
      "image/png": "[encoded data removed]",
      "text/plain": [
       "<Figure size 1008x432 with 1 Axes>"
      ]
     },
     "metadata": {},
     "output_type": "display_data"
    }
   ],
   "source": [
    "# for title\n",
    "lengths = train.title.apply(lambda x: len(x.split()))\n",
    "lengths.hist(bins = np.arange(start=1, stop=15, step=1), figsize=[14,6])"
   ]
  },
  {
   "cell_type": "code",
   "execution_count": 12,
   "metadata": {},
   "outputs": [
    {
     "data": {
      "text/plain": [
       "<matplotlib.axes._subplots.AxesSubplot at 0x24925ae5828>"
      ]
     },
     "execution_count": 12,
     "metadata": {},
     "output_type": "execute_result"
    },
    {
     "data": {
      "image/png": "[encoded data removed]",
      "text/plain": [
       "<Figure size 1008x432 with 1 Axes>"
      ]
     },
     "metadata": {},
     "output_type": "display_data"
    }
   ],
   "source": [
    "# for descriprion\n",
    "lengths = train.description.apply(lambda x: len(x.split()))\n",
    "lengths.hist(bins = np.arange(start=1, stop=500, step=1), figsize=[14,6])"
   ]
  },
  {
   "cell_type": "markdown",
   "metadata": {},
   "source": [
    "### Сreate a custom stopword list and exclude useless frequent words"
   ]
  },
  {
   "cell_type": "code",
   "execution_count": 13,
   "metadata": {},
   "outputs": [],
   "source": [
    "#fdist_title = FreqDist((' '.join(train.title.values)).split(' '))"
   ]
  },
  {
   "cell_type": "code",
   "execution_count": 14,
   "metadata": {},
   "outputs": [],
   "source": [
    "#fdist_description = FreqDist((' '.join(train.description.values)).split(' '))"
   ]
  },
  {
   "cell_type": "code",
   "execution_count": 15,
   "metadata": {
    "scrolled": true
   },
   "outputs": [],
   "source": [
    "#fdist_title.most_common(200)"
   ]
  },
  {
   "cell_type": "code",
   "execution_count": 16,
   "metadata": {},
   "outputs": [],
   "source": [
    "#fdist_description.most_common(200)"
   ]
  },
  {
   "cell_type": "code",
   "execution_count": 5,
   "metadata": {},
   "outputs": [],
   "source": [
    "file = open('stopwords.txt')\n",
    "stopwords = file.read().strip().split()\n",
    "file.close()"
   ]
  },
  {
   "cell_type": "code",
   "execution_count": 6,
   "metadata": {},
   "outputs": [],
   "source": [
    "def remove_stopwords(text):\n",
    "    return ' '.join(filter(lambda x: x not in stopwords, text.split()))"
   ]
  },
  {
   "cell_type": "code",
   "execution_count": 7,
   "metadata": {},
   "outputs": [],
   "source": [
    "train.title = train.title.apply(remove_stopwords)"
   ]
  },
  {
   "cell_type": "code",
   "execution_count": 8,
   "metadata": {},
   "outputs": [
    {
     "data": {
      "text/html": [
       "<div>\n",
       "<style scoped>\n",
       "    .dataframe tbody tr th:only-of-type {\n",
       "        vertical-align: middle;\n",
       "    }\n",
       "\n",
       "    .dataframe tbody tr th {\n",
       "        vertical-align: top;\n",
       "    }\n",
       "\n",
       "    .dataframe thead th {\n",
       "        text-align: right;\n",
       "    }\n",
       "</style>\n",
       "<table border=\"1\" class=\"dataframe\">\n",
       "  <thead>\n",
       "    <tr style=\"text-align: right;\">\n",
       "      <th></th>\n",
       "      <th>item_id</th>\n",
       "      <th>title</th>\n",
       "      <th>description</th>\n",
       "      <th>price</th>\n",
       "      <th>category_id</th>\n",
       "    </tr>\n",
       "  </thead>\n",
       "  <tbody>\n",
       "    <tr>\n",
       "      <th>189881</th>\n",
       "      <td>189881</td>\n",
       "      <td>системный блок</td>\n",
       "      <td>часть целиком стоить целый торгом</td>\n",
       "      <td>10000.0</td>\n",
       "      <td>7</td>\n",
       "    </tr>\n",
       "    <tr>\n",
       "      <th>29924</th>\n",
       "      <td>29924</td>\n",
       "      <td>керамогранить ардезия светло коричневый 41 8х4...</td>\n",
       "      <td>тд lunaventый предлагать огромный ассортимент ...</td>\n",
       "      <td>650.0</td>\n",
       "      <td>15</td>\n",
       "    </tr>\n",
       "    <tr>\n",
       "      <th>94811</th>\n",
       "      <td>94811</td>\n",
       "      <td>чайрик походный 7л</td>\n",
       "      <td>чайник алюминиевый 7л</td>\n",
       "      <td>300.0</td>\n",
       "      <td>20</td>\n",
       "    </tr>\n",
       "    <tr>\n",
       "      <th>209930</th>\n",
       "      <td>209930</td>\n",
       "      <td>модульный dj контроллер reloop contour controller</td>\n",
       "      <td>смс коробка диск провод юзать модульный контро...</td>\n",
       "      <td>8000.0</td>\n",
       "      <td>52</td>\n",
       "    </tr>\n",
       "    <tr>\n",
       "      <th>214788</th>\n",
       "      <td>214788</td>\n",
       "      <td>диван</td>\n",
       "      <td>обивка жизнь яркий фото ящик бельё</td>\n",
       "      <td>3000.0</td>\n",
       "      <td>16</td>\n",
       "    </tr>\n",
       "    <tr>\n",
       "      <th>217826</th>\n",
       "      <td>217826</td>\n",
       "      <td>силиконовый кейс iphone 6s арт 00377</td>\n",
       "      <td>удобный кейс выполнить силикон оригинальный ри...</td>\n",
       "      <td>390.0</td>\n",
       "      <td>9</td>\n",
       "    </tr>\n",
       "    <tr>\n",
       "      <th>49318</th>\n",
       "      <td>49318</td>\n",
       "      <td>кухонный уголок</td>\n",
       "      <td>кухонный уголок подходить маленькая кухня лёгк...</td>\n",
       "      <td>2000.0</td>\n",
       "      <td>23</td>\n",
       "    </tr>\n",
       "    <tr>\n",
       "      <th>143150</th>\n",
       "      <td>143150</td>\n",
       "      <td>sony experia z</td>\n",
       "      <td>заводский комплект inst luckystooore подписчик...</td>\n",
       "      <td>11000.0</td>\n",
       "      <td>11</td>\n",
       "    </tr>\n",
       "    <tr>\n",
       "      <th>344780</th>\n",
       "      <td>344780</td>\n",
       "      <td>йогуртница</td>\n",
       "      <td>йогуртница supra йогурт грамм</td>\n",
       "      <td>350.0</td>\n",
       "      <td>29</td>\n",
       "    </tr>\n",
       "    <tr>\n",
       "      <th>348267</th>\n",
       "      <td>348267</td>\n",
       "      <td>блок питание bp v12 600 мощность вт</td>\n",
       "      <td>данный тип конструкция светодиодный модуль обл...</td>\n",
       "      <td>1185.0</td>\n",
       "      <td>28</td>\n",
       "    </tr>\n",
       "  </tbody>\n",
       "</table>\n",
       "</div>"
      ],
      "text/plain": [
       "        item_id                                              title  \\\n",
       "189881   189881                                     системный блок   \n",
       "29924     29924  керамогранить ардезия светло коричневый 41 8х4...   \n",
       "94811     94811                                 чайрик походный 7л   \n",
       "209930   209930  модульный dj контроллер reloop contour controller   \n",
       "214788   214788                                              диван   \n",
       "217826   217826               силиконовый кейс iphone 6s арт 00377   \n",
       "49318     49318                                    кухонный уголок   \n",
       "143150   143150                                     sony experia z   \n",
       "344780   344780                                         йогуртница   \n",
       "348267   348267                блок питание bp v12 600 мощность вт   \n",
       "\n",
       "                                              description    price  \\\n",
       "189881                  часть целиком стоить целый торгом  10000.0   \n",
       "29924   тд lunaventый предлагать огромный ассортимент ...    650.0   \n",
       "94811                               чайник алюминиевый 7л    300.0   \n",
       "209930  смс коробка диск провод юзать модульный контро...   8000.0   \n",
       "214788                 обивка жизнь яркий фото ящик бельё   3000.0   \n",
       "217826  удобный кейс выполнить силикон оригинальный ри...    390.0   \n",
       "49318   кухонный уголок подходить маленькая кухня лёгк...   2000.0   \n",
       "143150  заводский комплект inst luckystooore подписчик...  11000.0   \n",
       "344780                      йогуртница supra йогурт грамм    350.0   \n",
       "348267  данный тип конструкция светодиодный модуль обл...   1185.0   \n",
       "\n",
       "        category_id  \n",
       "189881            7  \n",
       "29924            15  \n",
       "94811            20  \n",
       "209930           52  \n",
       "214788           16  \n",
       "217826            9  \n",
       "49318            23  \n",
       "143150           11  \n",
       "344780           29  \n",
       "348267           28  "
      ]
     },
     "execution_count": 8,
     "metadata": {},
     "output_type": "execute_result"
    }
   ],
   "source": [
    "train.description = train.description.apply(remove_stopwords)\n",
    "train.sample(10)"
   ]
  },
  {
   "cell_type": "code",
   "execution_count": 9,
   "metadata": {},
   "outputs": [
    {
     "data": {
      "text/html": [
       "<div>\n",
       "<style scoped>\n",
       "    .dataframe tbody tr th:only-of-type {\n",
       "        vertical-align: middle;\n",
       "    }\n",
       "\n",
       "    .dataframe tbody tr th {\n",
       "        vertical-align: top;\n",
       "    }\n",
       "\n",
       "    .dataframe thead th {\n",
       "        text-align: right;\n",
       "    }\n",
       "</style>\n",
       "<table border=\"1\" class=\"dataframe\">\n",
       "  <thead>\n",
       "    <tr style=\"text-align: right;\">\n",
       "      <th></th>\n",
       "      <th>item_id</th>\n",
       "      <th>title</th>\n",
       "      <th>description</th>\n",
       "      <th>price</th>\n",
       "    </tr>\n",
       "  </thead>\n",
       "  <tbody>\n",
       "    <tr>\n",
       "      <th>166266</th>\n",
       "      <td>655783</td>\n",
       "      <td>sony xperia z1</td>\n",
       "      <td>пользоваться аккуратно коробка документ иметься</td>\n",
       "      <td>10000.0</td>\n",
       "    </tr>\n",
       "    <tr>\n",
       "      <th>48858</th>\n",
       "      <td>538375</td>\n",
       "      <td>лий детский коробка</td>\n",
       "      <td>атакж большой выбор детский товар низкий</td>\n",
       "      <td>990.0</td>\n",
       "    </tr>\n",
       "    <tr>\n",
       "      <th>82267</th>\n",
       "      <td>571784</td>\n",
       "      <td>ламинат</td>\n",
       "      <td>знаете нужно готовый дать низкий ламинат выбра...</td>\n",
       "      <td>320.0</td>\n",
       "    </tr>\n",
       "    <tr>\n",
       "      <th>21187</th>\n",
       "      <td>510704</td>\n",
       "      <td>чехол meizu m2 mini</td>\n",
       "      <td>абсолютно силиконовый чехол бампер</td>\n",
       "      <td>150.0</td>\n",
       "    </tr>\n",
       "    <tr>\n",
       "      <th>2669</th>\n",
       "      <td>492186</td>\n",
       "      <td>штанга</td>\n",
       "      <td>штанга фирма atlet barbell общий вес килограмм...</td>\n",
       "      <td>6000.0</td>\n",
       "    </tr>\n",
       "    <tr>\n",
       "      <th>125722</th>\n",
       "      <td>615239</td>\n",
       "      <td>бампер iphone 5s металлический</td>\n",
       "      <td>бампер металлический iphone 5s металлический а...</td>\n",
       "      <td>250.0</td>\n",
       "    </tr>\n",
       "    <tr>\n",
       "      <th>108459</th>\n",
       "      <td>597976</td>\n",
       "      <td>журнальный столик</td>\n",
       "      <td>старый журнальный столик</td>\n",
       "      <td>500.0</td>\n",
       "    </tr>\n",
       "    <tr>\n",
       "      <th>88715</th>\n",
       "      <td>578232</td>\n",
       "      <td>проигрыватель илга 301</td>\n",
       "      <td>проигрыватель илга 301 колонка</td>\n",
       "      <td>5000.0</td>\n",
       "    </tr>\n",
       "    <tr>\n",
       "      <th>128764</th>\n",
       "      <td>618281</td>\n",
       "      <td>уф лампа 36 вт</td>\n",
       "      <td>ультрафиолетовый лампа 36 вт номинальный напря...</td>\n",
       "      <td>700.0</td>\n",
       "    </tr>\n",
       "    <tr>\n",
       "      <th>162177</th>\n",
       "      <td>651694</td>\n",
       "      <td>копейка 1952</td>\n",
       "      <td>копейка 1952 отправить почта копейка 1955 1956...</td>\n",
       "      <td>100.0</td>\n",
       "    </tr>\n",
       "  </tbody>\n",
       "</table>\n",
       "</div>"
      ],
      "text/plain": [
       "        item_id                           title  \\\n",
       "166266   655783                  sony xperia z1   \n",
       "48858    538375             лий детский коробка   \n",
       "82267    571784                         ламинат   \n",
       "21187    510704             чехол meizu m2 mini   \n",
       "2669     492186                          штанга   \n",
       "125722   615239  бампер iphone 5s металлический   \n",
       "108459   597976               журнальный столик   \n",
       "88715    578232          проигрыватель илга 301   \n",
       "128764   618281                  уф лампа 36 вт   \n",
       "162177   651694                    копейка 1952   \n",
       "\n",
       "                                              description    price  \n",
       "166266    пользоваться аккуратно коробка документ иметься  10000.0  \n",
       "48858            атакж большой выбор детский товар низкий    990.0  \n",
       "82267   знаете нужно готовый дать низкий ламинат выбра...    320.0  \n",
       "21187                  абсолютно силиконовый чехол бампер    150.0  \n",
       "2669    штанга фирма atlet barbell общий вес килограмм...   6000.0  \n",
       "125722  бампер металлический iphone 5s металлический а...    250.0  \n",
       "108459                           старый журнальный столик    500.0  \n",
       "88715                      проигрыватель илга 301 колонка   5000.0  \n",
       "128764  ультрафиолетовый лампа 36 вт номинальный напря...    700.0  \n",
       "162177  копейка 1952 отправить почта копейка 1955 1956...    100.0  "
      ]
     },
     "execution_count": 9,
     "metadata": {},
     "output_type": "execute_result"
    }
   ],
   "source": [
    "test.title = test.title.apply(remove_stopwords)\n",
    "test.description = test.description.apply(remove_stopwords)\n",
    "test.sample(10)"
   ]
  },
  {
   "cell_type": "markdown",
   "metadata": {},
   "source": [
    "### Divide train to test results"
   ]
  },
  {
   "cell_type": "code",
   "execution_count": 11,
   "metadata": {},
   "outputs": [],
   "source": [
    "train_, test_ = train_test_split(train, test_size = 0.2, random_state = 10)"
   ]
  },
  {
   "cell_type": "markdown",
   "metadata": {},
   "source": [
    "# Bag of words + classic ML"
   ]
  },
  {
   "cell_type": "code",
   "execution_count": 30,
   "metadata": {},
   "outputs": [],
   "source": [
    "count_vectorizer_title = CountVectorizer(analyzer=\"word\", min_df=0.001).fit(train_['title'])\n",
    "count_vectorizer_description = CountVectorizer(analyzer=\"word\", min_df=0.001).fit(train_['description'])"
   ]
  },
  {
   "cell_type": "code",
   "execution_count": 31,
   "metadata": {},
   "outputs": [
    {
     "name": "stdout",
     "output_type": "stream",
     "text": [
      "471\n"
     ]
    },
    {
     "data": {
      "text/plain": [
       "3458"
      ]
     },
     "execution_count": 31,
     "metadata": {},
     "output_type": "execute_result"
    }
   ],
   "source": [
    "print(len(count_vectorizer_title.get_feature_names()))\n",
    "len(count_vectorizer_description.get_feature_names())"
   ]
  },
  {
   "cell_type": "code",
   "execution_count": 32,
   "metadata": {},
   "outputs": [],
   "source": [
    "first_feature = count_vectorizer_title.transform(train_['title']).toarray()\n",
    "second_feature = count_vectorizer_description.transform(train_['description']).toarray()\n",
    "first_feature_test = count_vectorizer_title.transform(test_['title']).toarray()\n",
    "second_feature_test = count_vectorizer_description.transform(test_['description']).toarray()"
   ]
  },
  {
   "cell_type": "code",
   "execution_count": 33,
   "metadata": {},
   "outputs": [],
   "source": [
    "x_train = np.concatenate([first_feature, second_feature], axis=1)\n",
    "x_test = np.concatenate([first_feature_test, second_feature_test], axis=1)\n",
    "y_train = train_['category_id']\n",
    "y_test = test_['category_id']"
   ]
  },
  {
   "cell_type": "code",
   "execution_count": 34,
   "metadata": {},
   "outputs": [
    {
     "name": "stdout",
     "output_type": "stream",
     "text": [
      "Wall time: 5min\n"
     ]
    }
   ],
   "source": [
    "%%time\n",
    "cls_RF = RandomForestClassifier(n_jobs=-1, random_state = 10, class_weight = 'balanced').fit(x_train, y_train)\n",
    "y_pred_random_forest = cls_RF.predict(x_test) "
   ]
  },
  {
   "cell_type": "code",
   "execution_count": 35,
   "metadata": {},
   "outputs": [
    {
     "name": "stdout",
     "output_type": "stream",
     "text": [
      "Accuracy score: 0.773656\n"
     ]
    }
   ],
   "source": [
    "print(\"Accuracy score: {:5f}\".format(metrics.accuracy_score(y_test, y_pred_random_forest)))"
   ]
  },
  {
   "cell_type": "markdown",
   "metadata": {},
   "source": [
    "### Make predictions"
   ]
  },
  {
   "cell_type": "code",
   "execution_count": 10,
   "metadata": {},
   "outputs": [],
   "source": [
    "count_vectorizer_title = CountVectorizer(analyzer=\"word\", min_df=0.001).fit(train['title'])\n",
    "count_vectorizer_description = CountVectorizer(analyzer=\"word\", min_df=0.001).fit(train['description'])"
   ]
  },
  {
   "cell_type": "code",
   "execution_count": 11,
   "metadata": {},
   "outputs": [],
   "source": [
    "first_feature = count_vectorizer_title.transform(train['title']).toarray()\n",
    "second_feature = count_vectorizer_description.transform(train['description']).toarray()\n",
    "first_feature_test = count_vectorizer_title.transform(test['title']).toarray()\n",
    "second_feature_test = count_vectorizer_description.transform(test['description']).toarray()"
   ]
  },
  {
   "cell_type": "code",
   "execution_count": 12,
   "metadata": {},
   "outputs": [],
   "source": [
    "x_train = np.concatenate([first_feature, second_feature], axis=1)\n",
    "x_test = np.concatenate([first_feature_test, second_feature_test], axis=1)\n",
    "y_train = train['category_id']"
   ]
  },
  {
   "cell_type": "code",
   "execution_count": 13,
   "metadata": {},
   "outputs": [
    {
     "name": "stdout",
     "output_type": "stream",
     "text": [
      "Wall time: 6min 21s\n"
     ]
    }
   ],
   "source": [
    "%%time\n",
    "cls_RF = RandomForestClassifier(n_jobs=-1, random_state = 10, class_weight = 'balanced').fit(x_train, y_train)\n",
    "y_pred_random_forest = cls_RF.predict(x_test) "
   ]
  },
  {
   "cell_type": "code",
   "execution_count": 18,
   "metadata": {},
   "outputs": [],
   "source": [
    "pd.DataFrame({'item_id': test.item_id.values, 'category_id': y_pred_random_forest}).to_csv('predictions.csv', index = None)"
   ]
  },
  {
   "cell_type": "markdown",
   "metadata": {},
   "source": [
    "#### Random Forest is usually good for texts "
   ]
  },
  {
   "cell_type": "markdown",
   "metadata": {},
   "source": [
    "#### One-vs-Rest and One-vs-One + LinearSVC"
   ]
  },
  {
   "cell_type": "code",
   "execution_count": 18,
   "metadata": {
    "scrolled": true
   },
   "outputs": [],
   "source": [
    "#y_pred_OVO_SVC = OneVsOneClassifier(LinearSVC(class_weight = 'balanced'), n_jobs = -1).fit(x_train, y_train).predict(x_test) "
   ]
  },
  {
   "cell_type": "code",
   "execution_count": 19,
   "metadata": {},
   "outputs": [],
   "source": [
    "#print(\"Accuracy score: {:5f}\".format(metrics.accuracy_score(y_test, y_pred_OVO_SVC)))"
   ]
  },
  {
   "cell_type": "code",
   "execution_count": 20,
   "metadata": {},
   "outputs": [],
   "source": [
    "#y_pred_OVR_SVC = OneVsRestClassifier(LinearSVC(class_weight = 'balanced')).fit(x_train, y_train).predict(x_test) "
   ]
  },
  {
   "cell_type": "code",
   "execution_count": 21,
   "metadata": {},
   "outputs": [],
   "source": [
    "#print(\"Accuracy score: {:5f}\".format(metrics.accuracy_score(y_test, y_pred_OVR_SVC)))"
   ]
  },
  {
   "cell_type": "markdown",
   "metadata": {},
   "source": [
    "#### Tfidf + LinearSVC"
   ]
  },
  {
   "cell_type": "code",
   "execution_count": 12,
   "metadata": {},
   "outputs": [],
   "source": [
    "tfidf_vectorizer_title = TfidfVectorizer(analyzer=\"word\", min_df=0.001).fit(train_['title'])\n",
    "tfidf_vectorizer_description = TfidfVectorizer(analyzer=\"word\", min_df=0.001).fit(train_['description'])"
   ]
  },
  {
   "cell_type": "code",
   "execution_count": 14,
   "metadata": {},
   "outputs": [],
   "source": [
    "first_feature = tfidf_vectorizer_title.transform(train_['title']).toarray()\n",
    "second_feature = tfidf_vectorizer_description.transform(train_['description']).toarray()\n",
    "first_feature_test = tfidf_vectorizer_title.transform(test_['title']).toarray()\n",
    "second_feature_test = tfidf_vectorizer_description.transform(test_['description']).toarray()"
   ]
  },
  {
   "cell_type": "code",
   "execution_count": 15,
   "metadata": {},
   "outputs": [],
   "source": [
    "x_train = np.concatenate([first_feature, second_feature], axis=1)\n",
    "x_test = np.concatenate([first_feature_test, second_feature_test], axis=1)\n",
    "y_train = train_['category_id']\n",
    "y_test = test_['category_id']"
   ]
  },
  {
   "cell_type": "code",
   "execution_count": null,
   "metadata": {},
   "outputs": [],
   "source": [
    "#y_pred_OVR_SVC = OneVsRestClassifier(LinearSVC(class_weight = 'balanced')).fit(x_train, y_train).predict(x_test) "
   ]
  },
  {
   "cell_type": "code",
   "execution_count": null,
   "metadata": {},
   "outputs": [],
   "source": [
    "#print(\"Accuracy score: {:5f}\".format(metrics.accuracy_score(y_test, y_pred_OVR_SVC)))"
   ]
  },
  {
   "cell_type": "code",
   "execution_count": 16,
   "metadata": {},
   "outputs": [
    {
     "name": "stdout",
     "output_type": "stream",
     "text": [
      "Wall time: 4min 48s\n"
     ]
    }
   ],
   "source": [
    "%%time\n",
    "cls_RF = RandomForestClassifier(n_jobs=-1, random_state = 10, class_weight = 'balanced').fit(x_train, y_train)\n",
    "y_pred_random_forest = cls_RF.predict(x_test) "
   ]
  },
  {
   "cell_type": "code",
   "execution_count": 17,
   "metadata": {},
   "outputs": [
    {
     "name": "stdout",
     "output_type": "stream",
     "text": [
      "Accuracy score: 0.777670\n"
     ]
    }
   ],
   "source": [
    "print(\"Accuracy score: {:5f}\".format(metrics.accuracy_score(y_test, y_pred_random_forest)))"
   ]
  },
  {
   "cell_type": "code",
   "execution_count": 22,
   "metadata": {},
   "outputs": [],
   "source": [
    "#SVC_pipeline = Pipeline([('tfidf', TfidfVectorizer()), \n",
    "#                         ('clf', OneVsRestClassifier(LinearSVC(class_weighted = 'balanced', verbose = True),))])\n",
    "#SVC_pipeline.fit(x_train, y_train)\n",
    "#y_pred = SVC_pipeline.predict(x_test)"
   ]
  },
  {
   "cell_type": "code",
   "execution_count": 23,
   "metadata": {},
   "outputs": [],
   "source": [
    "#print(\"Accuracy score: {:5f}\".format(metrics.accuracy_score(y_test, y_pred)))"
   ]
  },
  {
   "cell_type": "markdown",
   "metadata": {},
   "source": [
    "### Simple model"
   ]
  },
  {
   "cell_type": "code",
   "execution_count": 10,
   "metadata": {},
   "outputs": [
    {
     "name": "stderr",
     "output_type": "stream",
     "text": [
      "C:\\Users\\HK\\Anaconda3\\lib\\site-packages\\h5py\\__init__.py:36: FutureWarning: Conversion of the second argument of issubdtype from `float` to `np.floating` is deprecated. In future, it will be treated as `np.float64 == np.dtype(float).type`.\n",
      "  from ._conv import register_converters as _register_converters\n",
      "Using TensorFlow backend.\n"
     ]
    }
   ],
   "source": [
    "from keras.models import Sequential\n",
    "from keras.layers import Dense, Dropout, Activation\n",
    "from keras.layers import Embedding\n",
    "from keras.layers import Conv1D, GlobalMaxPooling1D\n",
    "from keras.preprocessing.text import Tokenizer\n",
    "from keras.preprocessing import sequence\n",
    "from sklearn.preprocessing import LabelEncoder\n",
    "import time\n",
    "from keras import metrics\n",
    "from keras.utils import to_categorical\n",
    "from keras.preprocessing import sequence\n",
    "from keras.layers import LSTM"
   ]
  },
  {
   "cell_type": "code",
   "execution_count": 11,
   "metadata": {
    "scrolled": true
   },
   "outputs": [],
   "source": [
    "title_max = 150\n",
    "descr_max = 350\n",
    "# preprocess\n",
    "categories = to_categorical(train.category_id, num_classes=54)\n",
    "title_tok = Tokenizer(num_words=title_max)\n",
    "title_tok.fit_on_texts(train.title)\n",
    "title_mat_texts = title_tok.texts_to_matrix(train.title, mode = 'count')\n",
    "descr_tok = Tokenizer(num_words=descr_max)\n",
    "descr_tok.fit_on_texts(train.description)\n",
    "descr_mat_texts = descr_tok.texts_to_matrix(train.description, mode = 'count')\n",
    "mat_texts = np.hstack((title_mat_texts,descr_mat_texts))"
   ]
  },
  {
   "cell_type": "code",
   "execution_count": 12,
   "metadata": {
    "scrolled": false
   },
   "outputs": [
    {
     "name": "stdout",
     "output_type": "stream",
     "text": [
      "_________________________________________________________________\n",
      "Layer (type)                 Output Shape              Param #   \n",
      "=================================================================\n",
      "dense_1 (Dense)              (None, 512)               256512    \n",
      "_________________________________________________________________\n",
      "dropout_1 (Dropout)          (None, 512)               0         \n",
      "_________________________________________________________________\n",
      "dense_2 (Dense)              (None, 256)               131328    \n",
      "_________________________________________________________________\n",
      "dropout_2 (Dropout)          (None, 256)               0         \n",
      "_________________________________________________________________\n",
      "dense_3 (Dense)              (None, 54)                13878     \n",
      "=================================================================\n",
      "Total params: 401,718\n",
      "Trainable params: 401,718\n",
      "Non-trainable params: 0\n",
      "_________________________________________________________________\n"
     ]
    }
   ],
   "source": [
    "model = Sequential()\n",
    "model.add(Dense(512, activation='relu', input_shape=(descr_max+title_max,)))\n",
    "model.add(Dropout(0.2))\n",
    "model.add(Dense(256, activation='relu'))\n",
    "model.add(Dropout(0.2))\n",
    "model.add(Dense(54, activation='softmax'))\n",
    "model.summary()\n",
    "model.compile(loss='categorical_crossentropy',\n",
    "              optimizer='adam',\n",
    "              metrics=['acc'])"
   ]
  },
  {
   "cell_type": "code",
   "execution_count": 13,
   "metadata": {
    "scrolled": true
   },
   "outputs": [
    {
     "name": "stdout",
     "output_type": "stream",
     "text": [
      "Train on 391613 samples, validate on 97904 samples\n",
      "Epoch 1/50\n",
      "391613/391613 [==============================] - 70s 178us/step - loss: 1.3546 - acc: 0.6382 - val_loss: 1.2055 - val_acc: 0.6702\n",
      "Epoch 2/50\n",
      "391613/391613 [==============================] - 68s 174us/step - loss: 1.2136 - acc: 0.6668 - val_loss: 1.1830 - val_acc: 0.6739\n",
      "Epoch 3/50\n",
      "391613/391613 [==============================] - 68s 174us/step - loss: 1.1711 - acc: 0.6756 - val_loss: 1.1794 - val_acc: 0.6776\n",
      "Epoch 4/50\n",
      "391613/391613 [==============================] - 70s 179us/step - loss: 1.1426 - acc: 0.6813 - val_loss: 1.1738 - val_acc: 0.6786\n",
      "Epoch 5/50\n",
      "391613/391613 [==============================] - 69s 177us/step - loss: 1.1242 - acc: 0.6863 - val_loss: 1.1777 - val_acc: 0.6776\n",
      "Epoch 6/50\n",
      "391613/391613 [==============================] - 69s 176us/step - loss: 1.1101 - acc: 0.6890 - val_loss: 1.1794 - val_acc: 0.6797\n",
      "Epoch 7/50\n",
      "391613/391613 [==============================] - 69s 176us/step - loss: 1.0971 - acc: 0.6922 - val_loss: 1.1832 - val_acc: 0.6793\n",
      "Epoch 8/50\n",
      "391613/391613 [==============================] - 69s 176us/step - loss: 1.0885 - acc: 0.6941 - val_loss: 1.1922 - val_acc: 0.6790\n",
      "Epoch 9/50\n",
      "391613/391613 [==============================] - 69s 177us/step - loss: 1.0782 - acc: 0.6968 - val_loss: 1.2001 - val_acc: 0.6793\n",
      "Epoch 10/50\n",
      "391613/391613 [==============================] - 67s 171us/step - loss: 1.0723 - acc: 0.6983 - val_loss: 1.2058 - val_acc: 0.6780\n",
      "Epoch 11/50\n",
      "391613/391613 [==============================] - 66s 170us/step - loss: 1.0651 - acc: 0.6994 - val_loss: 1.2092 - val_acc: 0.6767\n",
      "Epoch 12/50\n",
      "391613/391613 [==============================] - 68s 173us/step - loss: 1.0602 - acc: 0.7004 - val_loss: 1.2154 - val_acc: 0.6777\n",
      "Epoch 13/50\n",
      "391613/391613 [==============================] - 70s 178us/step - loss: 1.0561 - acc: 0.7027 - val_loss: 1.2217 - val_acc: 0.6776\n",
      "Epoch 14/50\n",
      "391613/391613 [==============================] - 69s 177us/step - loss: 1.0507 - acc: 0.7033 - val_loss: 1.2311 - val_acc: 0.6765\n",
      "Epoch 15/50\n",
      "391613/391613 [==============================] - 70s 180us/step - loss: 1.0491 - acc: 0.7031 - val_loss: 1.2317 - val_acc: 0.6759\n",
      "Epoch 16/50\n",
      "391613/391613 [==============================] - 70s 178us/step - loss: 1.0441 - acc: 0.7049 - val_loss: 1.2415 - val_acc: 0.6763\n",
      "Epoch 17/50\n",
      "391613/391613 [==============================] - 70s 178us/step - loss: 1.0393 - acc: 0.7062 - val_loss: 1.2418 - val_acc: 0.6760\n",
      "Epoch 18/50\n",
      "391613/391613 [==============================] - 70s 179us/step - loss: 1.0388 - acc: 0.7062 - val_loss: 1.2475 - val_acc: 0.6761\n",
      "Epoch 19/50\n",
      "391613/391613 [==============================] - 70s 178us/step - loss: 1.0348 - acc: 0.7077 - val_loss: 1.2539 - val_acc: 0.6744\n",
      "Epoch 20/50\n",
      "391613/391613 [==============================] - 70s 178us/step - loss: 1.0333 - acc: 0.7080 - val_loss: 1.2515 - val_acc: 0.6744\n",
      "Epoch 21/50\n",
      "391613/391613 [==============================] - 68s 173us/step - loss: 1.0305 - acc: 0.7092 - val_loss: 1.2655 - val_acc: 0.6743\n",
      "Epoch 22/50\n",
      "391613/391613 [==============================] - 66s 169us/step - loss: 1.0304 - acc: 0.7090 - val_loss: 1.2635 - val_acc: 0.6739\n",
      "Epoch 23/50\n",
      "391613/391613 [==============================] - 67s 170us/step - loss: 1.0285 - acc: 0.7099 - val_loss: 1.2728 - val_acc: 0.6746\n",
      "Epoch 24/50\n",
      "391613/391613 [==============================] - 67s 171us/step - loss: 1.0245 - acc: 0.7105 - val_loss: 1.2713 - val_acc: 0.6746\n",
      "Epoch 25/50\n",
      "391613/391613 [==============================] - 67s 172us/step - loss: 1.0252 - acc: 0.7114 - val_loss: 1.2836 - val_acc: 0.6739\n",
      "Epoch 26/50\n",
      "391613/391613 [==============================] - 68s 174us/step - loss: 1.0261 - acc: 0.7111 - val_loss: 1.2819 - val_acc: 0.6737\n",
      "Epoch 27/50\n",
      "391613/391613 [==============================] - 67s 171us/step - loss: 1.0220 - acc: 0.7122 - val_loss: 1.2845 - val_acc: 0.6729\n",
      "Epoch 28/50\n",
      "391613/391613 [==============================] - 67s 171us/step - loss: 1.0196 - acc: 0.7128 - val_loss: 1.2917 - val_acc: 0.6718\n",
      "Epoch 29/50\n",
      "391613/391613 [==============================] - 67s 171us/step - loss: 1.0213 - acc: 0.7122 - val_loss: 1.2947 - val_acc: 0.6732\n",
      "Epoch 30/50\n",
      "391613/391613 [==============================] - 67s 171us/step - loss: 1.0176 - acc: 0.7133 - val_loss: 1.2991 - val_acc: 0.6727\n",
      "Epoch 31/50\n",
      "391613/391613 [==============================] - 67s 171us/step - loss: 1.0192 - acc: 0.7133 - val_loss: 1.3038 - val_acc: 0.6727\n",
      "Epoch 32/50\n",
      "391613/391613 [==============================] - 67s 171us/step - loss: 1.0165 - acc: 0.7142 - val_loss: 1.3088 - val_acc: 0.6714\n",
      "Epoch 33/50\n",
      "391613/391613 [==============================] - 67s 171us/step - loss: 1.0155 - acc: 0.7146 - val_loss: 1.3175 - val_acc: 0.6728\n",
      "Epoch 34/50\n",
      "391613/391613 [==============================] - 67s 172us/step - loss: 1.0158 - acc: 0.7143 - val_loss: 1.3137 - val_acc: 0.6728\n",
      "Epoch 35/50\n",
      "391613/391613 [==============================] - 67s 171us/step - loss: 1.0135 - acc: 0.7151 - val_loss: 1.3164 - val_acc: 0.6725\n",
      "Epoch 36/50\n",
      "391613/391613 [==============================] - 70s 178us/step - loss: 1.0132 - acc: 0.7145 - val_loss: 1.3201 - val_acc: 0.6712\n",
      "Epoch 37/50\n",
      " 28160/391613 [=>............................] - ETA: 1:02 - loss: 0.9898 - acc: 0.7190"
     ]
    },
    {
     "ename": "KeyboardInterrupt",
     "evalue": "",
     "output_type": "error",
     "traceback": [
      "\u001b[1;31m---------------------------------------------------------------------------\u001b[0m",
      "\u001b[1;31mKeyboardInterrupt\u001b[0m                         Traceback (most recent call last)",
      "\u001b[1;32m<ipython-input-13-c646a771889c>\u001b[0m in \u001b[0;36m<module>\u001b[1;34m()\u001b[0m\n\u001b[1;32m----> 1\u001b[1;33m \u001b[0mhistory\u001b[0m \u001b[1;33m=\u001b[0m \u001b[0mmodel\u001b[0m\u001b[1;33m.\u001b[0m\u001b[0mfit\u001b[0m\u001b[1;33m(\u001b[0m\u001b[0mmat_texts\u001b[0m\u001b[1;33m,\u001b[0m\u001b[0mcategories\u001b[0m\u001b[1;33m,\u001b[0m \u001b[0mepochs\u001b[0m\u001b[1;33m=\u001b[0m\u001b[1;36m50\u001b[0m\u001b[1;33m,\u001b[0m \u001b[0mbatch_size\u001b[0m\u001b[1;33m=\u001b[0m\u001b[1;36m32\u001b[0m\u001b[1;33m,\u001b[0m\u001b[0mvalidation_split\u001b[0m\u001b[1;33m=\u001b[0m\u001b[1;36m0.2\u001b[0m\u001b[1;33m)\u001b[0m\u001b[1;33m\u001b[0m\u001b[0m\n\u001b[0m",
      "\u001b[1;32m~\\Anaconda3\\lib\\site-packages\\keras\\engine\\training.py\u001b[0m in \u001b[0;36mfit\u001b[1;34m(self, x, y, batch_size, epochs, verbose, callbacks, validation_split, validation_data, shuffle, class_weight, sample_weight, initial_epoch, steps_per_epoch, validation_steps, **kwargs)\u001b[0m\n\u001b[0;32m   1037\u001b[0m                                         \u001b[0minitial_epoch\u001b[0m\u001b[1;33m=\u001b[0m\u001b[0minitial_epoch\u001b[0m\u001b[1;33m,\u001b[0m\u001b[1;33m\u001b[0m\u001b[0m\n\u001b[0;32m   1038\u001b[0m                                         \u001b[0msteps_per_epoch\u001b[0m\u001b[1;33m=\u001b[0m\u001b[0msteps_per_epoch\u001b[0m\u001b[1;33m,\u001b[0m\u001b[1;33m\u001b[0m\u001b[0m\n\u001b[1;32m-> 1039\u001b[1;33m                                         validation_steps=validation_steps)\n\u001b[0m\u001b[0;32m   1040\u001b[0m \u001b[1;33m\u001b[0m\u001b[0m\n\u001b[0;32m   1041\u001b[0m     def evaluate(self, x=None, y=None,\n",
      "\u001b[1;32m~\\Anaconda3\\lib\\site-packages\\keras\\engine\\training_arrays.py\u001b[0m in \u001b[0;36mfit_loop\u001b[1;34m(model, f, ins, out_labels, batch_size, epochs, verbose, callbacks, val_f, val_ins, shuffle, callback_metrics, initial_epoch, steps_per_epoch, validation_steps)\u001b[0m\n\u001b[0;32m    197\u001b[0m                     \u001b[0mins_batch\u001b[0m\u001b[1;33m[\u001b[0m\u001b[0mi\u001b[0m\u001b[1;33m]\u001b[0m \u001b[1;33m=\u001b[0m \u001b[0mins_batch\u001b[0m\u001b[1;33m[\u001b[0m\u001b[0mi\u001b[0m\u001b[1;33m]\u001b[0m\u001b[1;33m.\u001b[0m\u001b[0mtoarray\u001b[0m\u001b[1;33m(\u001b[0m\u001b[1;33m)\u001b[0m\u001b[1;33m\u001b[0m\u001b[0m\n\u001b[0;32m    198\u001b[0m \u001b[1;33m\u001b[0m\u001b[0m\n\u001b[1;32m--> 199\u001b[1;33m                 \u001b[0mouts\u001b[0m \u001b[1;33m=\u001b[0m \u001b[0mf\u001b[0m\u001b[1;33m(\u001b[0m\u001b[0mins_batch\u001b[0m\u001b[1;33m)\u001b[0m\u001b[1;33m\u001b[0m\u001b[0m\n\u001b[0m\u001b[0;32m    200\u001b[0m                 \u001b[0mouts\u001b[0m \u001b[1;33m=\u001b[0m \u001b[0mto_list\u001b[0m\u001b[1;33m(\u001b[0m\u001b[0mouts\u001b[0m\u001b[1;33m)\u001b[0m\u001b[1;33m\u001b[0m\u001b[0m\n\u001b[0;32m    201\u001b[0m                 \u001b[1;32mfor\u001b[0m \u001b[0ml\u001b[0m\u001b[1;33m,\u001b[0m \u001b[0mo\u001b[0m \u001b[1;32min\u001b[0m \u001b[0mzip\u001b[0m\u001b[1;33m(\u001b[0m\u001b[0mout_labels\u001b[0m\u001b[1;33m,\u001b[0m \u001b[0mouts\u001b[0m\u001b[1;33m)\u001b[0m\u001b[1;33m:\u001b[0m\u001b[1;33m\u001b[0m\u001b[0m\n",
      "\u001b[1;32m~\\Anaconda3\\lib\\site-packages\\keras\\backend\\tensorflow_backend.py\u001b[0m in \u001b[0;36m__call__\u001b[1;34m(self, inputs)\u001b[0m\n\u001b[0;32m   2713\u001b[0m                 \u001b[1;32mreturn\u001b[0m \u001b[0mself\u001b[0m\u001b[1;33m.\u001b[0m\u001b[0m_legacy_call\u001b[0m\u001b[1;33m(\u001b[0m\u001b[0minputs\u001b[0m\u001b[1;33m)\u001b[0m\u001b[1;33m\u001b[0m\u001b[0m\n\u001b[0;32m   2714\u001b[0m \u001b[1;33m\u001b[0m\u001b[0m\n\u001b[1;32m-> 2715\u001b[1;33m             \u001b[1;32mreturn\u001b[0m \u001b[0mself\u001b[0m\u001b[1;33m.\u001b[0m\u001b[0m_call\u001b[0m\u001b[1;33m(\u001b[0m\u001b[0minputs\u001b[0m\u001b[1;33m)\u001b[0m\u001b[1;33m\u001b[0m\u001b[0m\n\u001b[0m\u001b[0;32m   2716\u001b[0m         \u001b[1;32melse\u001b[0m\u001b[1;33m:\u001b[0m\u001b[1;33m\u001b[0m\u001b[0m\n\u001b[0;32m   2717\u001b[0m             \u001b[1;32mif\u001b[0m \u001b[0mpy_any\u001b[0m\u001b[1;33m(\u001b[0m\u001b[0mis_tensor\u001b[0m\u001b[1;33m(\u001b[0m\u001b[0mx\u001b[0m\u001b[1;33m)\u001b[0m \u001b[1;32mfor\u001b[0m \u001b[0mx\u001b[0m \u001b[1;32min\u001b[0m \u001b[0minputs\u001b[0m\u001b[1;33m)\u001b[0m\u001b[1;33m:\u001b[0m\u001b[1;33m\u001b[0m\u001b[0m\n",
      "\u001b[1;32m~\\Anaconda3\\lib\\site-packages\\keras\\backend\\tensorflow_backend.py\u001b[0m in \u001b[0;36m_call\u001b[1;34m(self, inputs)\u001b[0m\n\u001b[0;32m   2673\u001b[0m             \u001b[0mfetched\u001b[0m \u001b[1;33m=\u001b[0m \u001b[0mself\u001b[0m\u001b[1;33m.\u001b[0m\u001b[0m_callable_fn\u001b[0m\u001b[1;33m(\u001b[0m\u001b[1;33m*\u001b[0m\u001b[0marray_vals\u001b[0m\u001b[1;33m,\u001b[0m \u001b[0mrun_metadata\u001b[0m\u001b[1;33m=\u001b[0m\u001b[0mself\u001b[0m\u001b[1;33m.\u001b[0m\u001b[0mrun_metadata\u001b[0m\u001b[1;33m)\u001b[0m\u001b[1;33m\u001b[0m\u001b[0m\n\u001b[0;32m   2674\u001b[0m         \u001b[1;32melse\u001b[0m\u001b[1;33m:\u001b[0m\u001b[1;33m\u001b[0m\u001b[0m\n\u001b[1;32m-> 2675\u001b[1;33m             \u001b[0mfetched\u001b[0m \u001b[1;33m=\u001b[0m \u001b[0mself\u001b[0m\u001b[1;33m.\u001b[0m\u001b[0m_callable_fn\u001b[0m\u001b[1;33m(\u001b[0m\u001b[1;33m*\u001b[0m\u001b[0marray_vals\u001b[0m\u001b[1;33m)\u001b[0m\u001b[1;33m\u001b[0m\u001b[0m\n\u001b[0m\u001b[0;32m   2676\u001b[0m         \u001b[1;32mreturn\u001b[0m \u001b[0mfetched\u001b[0m\u001b[1;33m[\u001b[0m\u001b[1;33m:\u001b[0m\u001b[0mlen\u001b[0m\u001b[1;33m(\u001b[0m\u001b[0mself\u001b[0m\u001b[1;33m.\u001b[0m\u001b[0moutputs\u001b[0m\u001b[1;33m)\u001b[0m\u001b[1;33m]\u001b[0m\u001b[1;33m\u001b[0m\u001b[0m\n\u001b[0;32m   2677\u001b[0m \u001b[1;33m\u001b[0m\u001b[0m\n",
      "\u001b[1;32m~\\Anaconda3\\lib\\site-packages\\tensorflow\\python\\client\\session.py\u001b[0m in \u001b[0;36m__call__\u001b[1;34m(self, *args)\u001b[0m\n\u001b[0;32m   1449\u001b[0m         \u001b[1;32mif\u001b[0m \u001b[0mself\u001b[0m\u001b[1;33m.\u001b[0m\u001b[0m_session\u001b[0m\u001b[1;33m.\u001b[0m\u001b[0m_created_with_new_api\u001b[0m\u001b[1;33m:\u001b[0m\u001b[1;33m\u001b[0m\u001b[0m\n\u001b[0;32m   1450\u001b[0m           return tf_session.TF_SessionRunCallable(\n\u001b[1;32m-> 1451\u001b[1;33m               self._session._session, self._handle, args, status, None)\n\u001b[0m\u001b[0;32m   1452\u001b[0m         \u001b[1;32melse\u001b[0m\u001b[1;33m:\u001b[0m\u001b[1;33m\u001b[0m\u001b[0m\n\u001b[0;32m   1453\u001b[0m           return tf_session.TF_DeprecatedSessionRunCallable(\n",
      "\u001b[1;31mKeyboardInterrupt\u001b[0m: "
     ]
    }
   ],
   "source": [
    "history = model.fit(mat_texts,categories, epochs=50, batch_size=32,validation_split=0.2)"
   ]
  },
  {
   "cell_type": "code",
   "execution_count": null,
   "metadata": {},
   "outputs": [],
   "source": [
    "model.save(SAVE_PATH + 'ads.h5')"
   ]
  },
  {
   "cell_type": "markdown",
   "metadata": {},
   "source": [
    "### Simple LSTM (tried snn but it was too bad)"
   ]
  },
  {
   "cell_type": "code",
   "execution_count": 48,
   "metadata": {},
   "outputs": [],
   "source": [
    "max_words = 1000\n",
    "title_max_len = 150\n",
    "title_tok = Tokenizer(num_words=max_words)\n",
    "title_tok.fit_on_texts(train.title)\n",
    "title_sequences = title_tok.texts_to_sequences(train.title)\n",
    "title_sequences_matrix = sequence.pad_sequences(title_sequences,maxlen=title_max_len)\n",
    "descr_max_len = 250\n",
    "descr_tok = Tokenizer(num_words=max_words)\n",
    "descr_tok.fit_on_texts(train.description)\n",
    "descr_sequences = title_tok.texts_to_sequences(train.description)\n",
    "descr_sequences_matrix = sequence.pad_sequences(descr_sequences,maxlen=descr_max_len)\n",
    "mat_texts = np.hstack((title_sequences_matrix,descr_sequences_matrix))"
   ]
  },
  {
   "cell_type": "code",
   "execution_count": 51,
   "metadata": {},
   "outputs": [
    {
     "name": "stdout",
     "output_type": "stream",
     "text": [
      "_________________________________________________________________\n",
      "Layer (type)                 Output Shape              Param #   \n",
      "=================================================================\n",
      "embedding_4 (Embedding)      (None, 400, 50)           50000     \n",
      "_________________________________________________________________\n",
      "lstm_1 (LSTM)                (None, 64)                29440     \n",
      "_________________________________________________________________\n",
      "dense_14 (Dense)             (None, 256)               16640     \n",
      "_________________________________________________________________\n",
      "activation_5 (Activation)    (None, 256)               0         \n",
      "_________________________________________________________________\n",
      "dropout_11 (Dropout)         (None, 256)               0         \n",
      "_________________________________________________________________\n",
      "dense_15 (Dense)             (None, 54)                13878     \n",
      "_________________________________________________________________\n",
      "activation_6 (Activation)    (None, 54)                0         \n",
      "=================================================================\n",
      "Total params: 109,958\n",
      "Trainable params: 109,958\n",
      "Non-trainable params: 0\n",
      "_________________________________________________________________\n"
     ]
    }
   ],
   "source": [
    "model = Sequential()\n",
    "model.add(Embedding(max_words,50,input_length=400))\n",
    "model.add(LSTM(64))\n",
    "model.add(Dense(256))\n",
    "model.add(Activation('relu'))\n",
    "model.add(Dropout(0.5))\n",
    "model.add(Dense(54))\n",
    "model.add(Activation('softmax'))\n",
    "model.summary()\n",
    "model.compile(loss='categorical_crossentropy',\n",
    "              optimizer='adam',\n",
    "              metrics=['acc'])"
   ]
  },
  {
   "cell_type": "code",
   "execution_count": 58,
   "metadata": {
    "scrolled": true
   },
   "outputs": [
    {
     "name": "stdout",
     "output_type": "stream",
     "text": [
      "Train on 391613 samples, validate on 97904 samples\n",
      "Epoch 1/50\n",
      "391613/391613 [==============================] - 1440s 4ms/step - loss: 1.4414 - acc: 0.6209 - val_loss: 1.2989 - val_acc: 0.6501\n",
      "Epoch 2/50\n",
      "258560/391613 [==================>...........] - ETA: 7:50 - loss: 1.3258 - acc: 0.6447"
     ]
    },
    {
     "ename": "KeyboardInterrupt",
     "evalue": "",
     "output_type": "error",
     "traceback": [
      "\u001b[1;31m---------------------------------------------------------------------------\u001b[0m",
      "\u001b[1;31mKeyboardInterrupt\u001b[0m                         Traceback (most recent call last)",
      "\u001b[1;32m<ipython-input-58-6fc7d0cd041a>\u001b[0m in \u001b[0;36m<module>\u001b[1;34m()\u001b[0m\n\u001b[1;32m----> 1\u001b[1;33m \u001b[0mhistory\u001b[0m \u001b[1;33m=\u001b[0m \u001b[0mmodel\u001b[0m\u001b[1;33m.\u001b[0m\u001b[0mfit\u001b[0m\u001b[1;33m(\u001b[0m\u001b[0mmat_texts\u001b[0m\u001b[1;33m,\u001b[0m\u001b[0mcategories\u001b[0m\u001b[1;33m,\u001b[0m \u001b[0mepochs\u001b[0m\u001b[1;33m=\u001b[0m\u001b[1;36m50\u001b[0m\u001b[1;33m,\u001b[0m \u001b[0mbatch_size\u001b[0m\u001b[1;33m=\u001b[0m\u001b[1;36m256\u001b[0m\u001b[1;33m,\u001b[0m \u001b[0mvalidation_split\u001b[0m\u001b[1;33m=\u001b[0m\u001b[1;36m0.2\u001b[0m\u001b[1;33m)\u001b[0m\u001b[1;33m\u001b[0m\u001b[0m\n\u001b[0m",
      "\u001b[1;32m~\\Anaconda3\\lib\\site-packages\\keras\\engine\\training.py\u001b[0m in \u001b[0;36mfit\u001b[1;34m(self, x, y, batch_size, epochs, verbose, callbacks, validation_split, validation_data, shuffle, class_weight, sample_weight, initial_epoch, steps_per_epoch, validation_steps, **kwargs)\u001b[0m\n\u001b[0;32m   1037\u001b[0m                                         \u001b[0minitial_epoch\u001b[0m\u001b[1;33m=\u001b[0m\u001b[0minitial_epoch\u001b[0m\u001b[1;33m,\u001b[0m\u001b[1;33m\u001b[0m\u001b[0m\n\u001b[0;32m   1038\u001b[0m                                         \u001b[0msteps_per_epoch\u001b[0m\u001b[1;33m=\u001b[0m\u001b[0msteps_per_epoch\u001b[0m\u001b[1;33m,\u001b[0m\u001b[1;33m\u001b[0m\u001b[0m\n\u001b[1;32m-> 1039\u001b[1;33m                                         validation_steps=validation_steps)\n\u001b[0m\u001b[0;32m   1040\u001b[0m \u001b[1;33m\u001b[0m\u001b[0m\n\u001b[0;32m   1041\u001b[0m     def evaluate(self, x=None, y=None,\n",
      "\u001b[1;32m~\\Anaconda3\\lib\\site-packages\\keras\\engine\\training_arrays.py\u001b[0m in \u001b[0;36mfit_loop\u001b[1;34m(model, f, ins, out_labels, batch_size, epochs, verbose, callbacks, val_f, val_ins, shuffle, callback_metrics, initial_epoch, steps_per_epoch, validation_steps)\u001b[0m\n\u001b[0;32m    197\u001b[0m                     \u001b[0mins_batch\u001b[0m\u001b[1;33m[\u001b[0m\u001b[0mi\u001b[0m\u001b[1;33m]\u001b[0m \u001b[1;33m=\u001b[0m \u001b[0mins_batch\u001b[0m\u001b[1;33m[\u001b[0m\u001b[0mi\u001b[0m\u001b[1;33m]\u001b[0m\u001b[1;33m.\u001b[0m\u001b[0mtoarray\u001b[0m\u001b[1;33m(\u001b[0m\u001b[1;33m)\u001b[0m\u001b[1;33m\u001b[0m\u001b[0m\n\u001b[0;32m    198\u001b[0m \u001b[1;33m\u001b[0m\u001b[0m\n\u001b[1;32m--> 199\u001b[1;33m                 \u001b[0mouts\u001b[0m \u001b[1;33m=\u001b[0m \u001b[0mf\u001b[0m\u001b[1;33m(\u001b[0m\u001b[0mins_batch\u001b[0m\u001b[1;33m)\u001b[0m\u001b[1;33m\u001b[0m\u001b[0m\n\u001b[0m\u001b[0;32m    200\u001b[0m                 \u001b[0mouts\u001b[0m \u001b[1;33m=\u001b[0m \u001b[0mto_list\u001b[0m\u001b[1;33m(\u001b[0m\u001b[0mouts\u001b[0m\u001b[1;33m)\u001b[0m\u001b[1;33m\u001b[0m\u001b[0m\n\u001b[0;32m    201\u001b[0m                 \u001b[1;32mfor\u001b[0m \u001b[0ml\u001b[0m\u001b[1;33m,\u001b[0m \u001b[0mo\u001b[0m \u001b[1;32min\u001b[0m \u001b[0mzip\u001b[0m\u001b[1;33m(\u001b[0m\u001b[0mout_labels\u001b[0m\u001b[1;33m,\u001b[0m \u001b[0mouts\u001b[0m\u001b[1;33m)\u001b[0m\u001b[1;33m:\u001b[0m\u001b[1;33m\u001b[0m\u001b[0m\n",
      "\u001b[1;32m~\\Anaconda3\\lib\\site-packages\\keras\\backend\\tensorflow_backend.py\u001b[0m in \u001b[0;36m__call__\u001b[1;34m(self, inputs)\u001b[0m\n\u001b[0;32m   2713\u001b[0m                 \u001b[1;32mreturn\u001b[0m \u001b[0mself\u001b[0m\u001b[1;33m.\u001b[0m\u001b[0m_legacy_call\u001b[0m\u001b[1;33m(\u001b[0m\u001b[0minputs\u001b[0m\u001b[1;33m)\u001b[0m\u001b[1;33m\u001b[0m\u001b[0m\n\u001b[0;32m   2714\u001b[0m \u001b[1;33m\u001b[0m\u001b[0m\n\u001b[1;32m-> 2715\u001b[1;33m             \u001b[1;32mreturn\u001b[0m \u001b[0mself\u001b[0m\u001b[1;33m.\u001b[0m\u001b[0m_call\u001b[0m\u001b[1;33m(\u001b[0m\u001b[0minputs\u001b[0m\u001b[1;33m)\u001b[0m\u001b[1;33m\u001b[0m\u001b[0m\n\u001b[0m\u001b[0;32m   2716\u001b[0m         \u001b[1;32melse\u001b[0m\u001b[1;33m:\u001b[0m\u001b[1;33m\u001b[0m\u001b[0m\n\u001b[0;32m   2717\u001b[0m             \u001b[1;32mif\u001b[0m \u001b[0mpy_any\u001b[0m\u001b[1;33m(\u001b[0m\u001b[0mis_tensor\u001b[0m\u001b[1;33m(\u001b[0m\u001b[0mx\u001b[0m\u001b[1;33m)\u001b[0m \u001b[1;32mfor\u001b[0m \u001b[0mx\u001b[0m \u001b[1;32min\u001b[0m \u001b[0minputs\u001b[0m\u001b[1;33m)\u001b[0m\u001b[1;33m:\u001b[0m\u001b[1;33m\u001b[0m\u001b[0m\n",
      "\u001b[1;32m~\\Anaconda3\\lib\\site-packages\\keras\\backend\\tensorflow_backend.py\u001b[0m in \u001b[0;36m_call\u001b[1;34m(self, inputs)\u001b[0m\n\u001b[0;32m   2673\u001b[0m             \u001b[0mfetched\u001b[0m \u001b[1;33m=\u001b[0m \u001b[0mself\u001b[0m\u001b[1;33m.\u001b[0m\u001b[0m_callable_fn\u001b[0m\u001b[1;33m(\u001b[0m\u001b[1;33m*\u001b[0m\u001b[0marray_vals\u001b[0m\u001b[1;33m,\u001b[0m \u001b[0mrun_metadata\u001b[0m\u001b[1;33m=\u001b[0m\u001b[0mself\u001b[0m\u001b[1;33m.\u001b[0m\u001b[0mrun_metadata\u001b[0m\u001b[1;33m)\u001b[0m\u001b[1;33m\u001b[0m\u001b[0m\n\u001b[0;32m   2674\u001b[0m         \u001b[1;32melse\u001b[0m\u001b[1;33m:\u001b[0m\u001b[1;33m\u001b[0m\u001b[0m\n\u001b[1;32m-> 2675\u001b[1;33m             \u001b[0mfetched\u001b[0m \u001b[1;33m=\u001b[0m \u001b[0mself\u001b[0m\u001b[1;33m.\u001b[0m\u001b[0m_callable_fn\u001b[0m\u001b[1;33m(\u001b[0m\u001b[1;33m*\u001b[0m\u001b[0marray_vals\u001b[0m\u001b[1;33m)\u001b[0m\u001b[1;33m\u001b[0m\u001b[0m\n\u001b[0m\u001b[0;32m   2676\u001b[0m         \u001b[1;32mreturn\u001b[0m \u001b[0mfetched\u001b[0m\u001b[1;33m[\u001b[0m\u001b[1;33m:\u001b[0m\u001b[0mlen\u001b[0m\u001b[1;33m(\u001b[0m\u001b[0mself\u001b[0m\u001b[1;33m.\u001b[0m\u001b[0moutputs\u001b[0m\u001b[1;33m)\u001b[0m\u001b[1;33m]\u001b[0m\u001b[1;33m\u001b[0m\u001b[0m\n\u001b[0;32m   2677\u001b[0m \u001b[1;33m\u001b[0m\u001b[0m\n",
      "\u001b[1;32m~\\Anaconda3\\lib\\site-packages\\tensorflow\\python\\client\\session.py\u001b[0m in \u001b[0;36m__call__\u001b[1;34m(self, *args)\u001b[0m\n\u001b[0;32m   1449\u001b[0m         \u001b[1;32mif\u001b[0m \u001b[0mself\u001b[0m\u001b[1;33m.\u001b[0m\u001b[0m_session\u001b[0m\u001b[1;33m.\u001b[0m\u001b[0m_created_with_new_api\u001b[0m\u001b[1;33m:\u001b[0m\u001b[1;33m\u001b[0m\u001b[0m\n\u001b[0;32m   1450\u001b[0m           return tf_session.TF_SessionRunCallable(\n\u001b[1;32m-> 1451\u001b[1;33m               self._session._session, self._handle, args, status, None)\n\u001b[0m\u001b[0;32m   1452\u001b[0m         \u001b[1;32melse\u001b[0m\u001b[1;33m:\u001b[0m\u001b[1;33m\u001b[0m\u001b[0m\n\u001b[0;32m   1453\u001b[0m           return tf_session.TF_DeprecatedSessionRunCallable(\n",
      "\u001b[1;31mKeyboardInterrupt\u001b[0m: "
     ]
    }
   ],
   "source": [
    "history = model.fit(mat_texts,categories, epochs=50, batch_size=256, validation_split=0.2)"
   ]
  },
  {
   "cell_type": "code",
   "execution_count": null,
   "metadata": {},
   "outputs": [],
   "source": [
    "model.save(SAVE_PATH + 'ads.h5')"
   ]
  },
  {
   "cell_type": "code",
   "execution_count": null,
   "metadata": {},
   "outputs": [],
   "source": [
    "predictions = model.predict(test_text)"
   ]
  },
  {
   "cell_type": "code",
   "execution_count": null,
   "metadata": {},
   "outputs": [],
   "source": [
    "history_dict = history.history\n",
    "loss_values = history_dict['loss']\n",
    "val_loss_values = history_dict['val_loss']\n",
    "epochs = range(1, 20+1)\n",
    "\n",
    "plt.figure(figsize=(14,8))\n",
    "\n",
    "plt.plot(epochs, loss_values, 'b', label='Training loss')\n",
    "plt.plot(epochs, val_loss_values, 'g',label='Validation loss')\n",
    "plt.title('Training and validation loss')\n",
    "plt.xlabel('Epochs')\n",
    "plt.ylabel('Loss')\n",
    "plt.legend()\n",
    "plt.show()"
   ]
  },
  {
   "cell_type": "markdown",
   "metadata": {},
   "source": [
    "## Train LSTM model in Google Colab on GPU, 69% val_accuracy"
   ]
  },
  {
   "cell_type": "code",
   "execution_count": null,
   "metadata": {},
   "outputs": [],
   "source": []
  },
  {
   "cell_type": "markdown",
   "metadata": {},
   "source": [
    "### TO DO\n",
    "- по левинштейну исправлять опечатки\n",
    "- давать больше вес title\n",
    "- использовать цену"
   ]
  }
 ],
 "metadata": {
  "kernelspec": {
   "display_name": "Python 3",
   "language": "python",
   "name": "python3"
  },
  "language_info": {
   "codemirror_mode": {
    "name": "ipython",
    "version": 3
   },
   "file_extension": ".py",
   "mimetype": "text/x-python",
   "name": "python",
   "nbconvert_exporter": "python",
   "pygments_lexer": "ipython3",
   "version": "3.6.5"
  }
 },
 "nbformat": 4,
 "nbformat_minor": 2
}
